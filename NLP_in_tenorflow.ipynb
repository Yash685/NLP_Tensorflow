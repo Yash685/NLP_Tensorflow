{
  "nbformat": 4,
  "nbformat_minor": 0,
  "metadata": {
    "colab": {
      "provenance": []
    },
    "kernelspec": {
      "name": "python3",
      "display_name": "Python 3"
    },
    "language_info": {
      "name": "python"
    },
    "accelerator": "GPU"
  },
  "cells": [
    {
      "cell_type": "markdown",
      "metadata": {
        "id": "aDMbLEBexmQ3"
      },
      "source": [
        "# Introduction to NLP Fundamentals in Tensorflow\n"
      ]
    },
    {
      "cell_type": "code",
      "metadata": {
        "colab": {
          "base_uri": "https://localhost:8080/"
        },
        "id": "xFafI2q5t8kk",
        "outputId": "fcbab960-079a-4268-d97c-47225b6790ae"
      },
      "source": [
        "# Check for GPU\n",
        "!nvidia-smi -L"
      ],
      "execution_count": null,
      "outputs": [
        {
          "output_type": "stream",
          "text": [
            "GPU 0: Tesla T4 (UUID: GPU-a9e976ab-ae7f-81e5-9428-73dbdc61c7c9)\n"
          ],
          "name": "stdout"
        }
      ]
    },
    {
      "cell_type": "markdown",
      "metadata": {
        "id": "sgL4um7outGE"
      },
      "source": [
        "# Get text dataset\n",
        "\n",
        "The dataset we are going to be using is Kaggle Introduction to NLP dataset (text samples of Tweets labelled as disaster or not disaster)\n",
        "\n",
        "Original source: https://www.kaggle.com/c/nlp-getting-started"
      ]
    },
    {
      "cell_type": "code",
      "metadata": {
        "colab": {
          "base_uri": "https://localhost:8080/"
        },
        "id": "2M2DH1yovJ6k",
        "outputId": "6a701d56-fc68-42d2-d423-0e93041e4276"
      },
      "source": [
        "!wget https://storage.googleapis.com/ztm_tf_course/nlp_getting_started.zip"
      ],
      "execution_count": null,
      "outputs": [
        {
          "output_type": "stream",
          "text": [
            "--2021-08-19 14:49:52--  https://storage.googleapis.com/ztm_tf_course/nlp_getting_started.zip\n",
            "Resolving storage.googleapis.com (storage.googleapis.com)... 74.125.20.128, 74.125.197.128, 74.125.142.128, ...\n",
            "Connecting to storage.googleapis.com (storage.googleapis.com)|74.125.20.128|:443... connected.\n",
            "HTTP request sent, awaiting response... 200 OK\n",
            "Length: 607343 (593K) [application/zip]\n",
            "Saving to: ‘nlp_getting_started.zip’\n",
            "\n",
            "nlp_getting_started 100%[===================>] 593.11K  --.-KB/s    in 0.004s  \n",
            "\n",
            "2021-08-19 14:49:53 (148 MB/s) - ‘nlp_getting_started.zip’ saved [607343/607343]\n",
            "\n"
          ],
          "name": "stdout"
        }
      ]
    },
    {
      "cell_type": "code",
      "metadata": {
        "id": "AEntOfZEvx_Y"
      },
      "source": [
        "# Unzip the data\n",
        "unzip_data(\"/content/nlp_getting_started.zip\")"
      ],
      "execution_count": null,
      "outputs": []
    },
    {
      "cell_type": "markdown",
      "metadata": {
        "id": "WiLHPs2Jv3Iz"
      },
      "source": [
        "## Visualizing a text dataset"
      ]
    },
    {
      "cell_type": "code",
      "metadata": {
        "id": "97o6CIU7wKzX"
      },
      "source": [
        "import pandas as pd\n",
        "train_df = pd.read_csv(\"train.csv\")\n",
        "test_df = pd.read_csv(\"test.csv\")"
      ],
      "execution_count": null,
      "outputs": []
    },
    {
      "cell_type": "code",
      "metadata": {
        "colab": {
          "base_uri": "https://localhost:8080/",
          "height": 203
        },
        "id": "5cnjxiYVwx1a",
        "outputId": "5ef5c95d-567d-4947-fe1e-12b82567c91d"
      },
      "source": [
        "train_df.head()"
      ],
      "execution_count": null,
      "outputs": [
        {
          "output_type": "execute_result",
          "data": {
            "text/html": [
              "<div>\n",
              "<style scoped>\n",
              "    .dataframe tbody tr th:only-of-type {\n",
              "        vertical-align: middle;\n",
              "    }\n",
              "\n",
              "    .dataframe tbody tr th {\n",
              "        vertical-align: top;\n",
              "    }\n",
              "\n",
              "    .dataframe thead th {\n",
              "        text-align: right;\n",
              "    }\n",
              "</style>\n",
              "<table border=\"1\" class=\"dataframe\">\n",
              "  <thead>\n",
              "    <tr style=\"text-align: right;\">\n",
              "      <th></th>\n",
              "      <th>id</th>\n",
              "      <th>keyword</th>\n",
              "      <th>location</th>\n",
              "      <th>text</th>\n",
              "      <th>target</th>\n",
              "    </tr>\n",
              "  </thead>\n",
              "  <tbody>\n",
              "    <tr>\n",
              "      <th>0</th>\n",
              "      <td>1</td>\n",
              "      <td>NaN</td>\n",
              "      <td>NaN</td>\n",
              "      <td>Our Deeds are the Reason of this #earthquake M...</td>\n",
              "      <td>1</td>\n",
              "    </tr>\n",
              "    <tr>\n",
              "      <th>1</th>\n",
              "      <td>4</td>\n",
              "      <td>NaN</td>\n",
              "      <td>NaN</td>\n",
              "      <td>Forest fire near La Ronge Sask. Canada</td>\n",
              "      <td>1</td>\n",
              "    </tr>\n",
              "    <tr>\n",
              "      <th>2</th>\n",
              "      <td>5</td>\n",
              "      <td>NaN</td>\n",
              "      <td>NaN</td>\n",
              "      <td>All residents asked to 'shelter in place' are ...</td>\n",
              "      <td>1</td>\n",
              "    </tr>\n",
              "    <tr>\n",
              "      <th>3</th>\n",
              "      <td>6</td>\n",
              "      <td>NaN</td>\n",
              "      <td>NaN</td>\n",
              "      <td>13,000 people receive #wildfires evacuation or...</td>\n",
              "      <td>1</td>\n",
              "    </tr>\n",
              "    <tr>\n",
              "      <th>4</th>\n",
              "      <td>7</td>\n",
              "      <td>NaN</td>\n",
              "      <td>NaN</td>\n",
              "      <td>Just got sent this photo from Ruby #Alaska as ...</td>\n",
              "      <td>1</td>\n",
              "    </tr>\n",
              "  </tbody>\n",
              "</table>\n",
              "</div>"
            ],
            "text/plain": [
              "   id keyword  ...                                               text target\n",
              "0   1     NaN  ...  Our Deeds are the Reason of this #earthquake M...      1\n",
              "1   4     NaN  ...             Forest fire near La Ronge Sask. Canada      1\n",
              "2   5     NaN  ...  All residents asked to 'shelter in place' are ...      1\n",
              "3   6     NaN  ...  13,000 people receive #wildfires evacuation or...      1\n",
              "4   7     NaN  ...  Just got sent this photo from Ruby #Alaska as ...      1\n",
              "\n",
              "[5 rows x 5 columns]"
            ]
          },
          "metadata": {},
          "execution_count": 8
        }
      ]
    },
    {
      "cell_type": "code",
      "metadata": {
        "colab": {
          "base_uri": "https://localhost:8080/",
          "height": 203
        },
        "id": "bkHhA7S-wzkV",
        "outputId": "29ab2e24-8e70-42dc-9f0a-3a47c48f9a5c"
      },
      "source": [
        "# Shuffle training dataframe\n",
        "train_df_shuffled = train_df.sample(frac=1, random_state=42)\n",
        "train_df_shuffled.head()"
      ],
      "execution_count": null,
      "outputs": [
        {
          "output_type": "execute_result",
          "data": {
            "text/html": [
              "<div>\n",
              "<style scoped>\n",
              "    .dataframe tbody tr th:only-of-type {\n",
              "        vertical-align: middle;\n",
              "    }\n",
              "\n",
              "    .dataframe tbody tr th {\n",
              "        vertical-align: top;\n",
              "    }\n",
              "\n",
              "    .dataframe thead th {\n",
              "        text-align: right;\n",
              "    }\n",
              "</style>\n",
              "<table border=\"1\" class=\"dataframe\">\n",
              "  <thead>\n",
              "    <tr style=\"text-align: right;\">\n",
              "      <th></th>\n",
              "      <th>id</th>\n",
              "      <th>keyword</th>\n",
              "      <th>location</th>\n",
              "      <th>text</th>\n",
              "      <th>target</th>\n",
              "    </tr>\n",
              "  </thead>\n",
              "  <tbody>\n",
              "    <tr>\n",
              "      <th>2644</th>\n",
              "      <td>3796</td>\n",
              "      <td>destruction</td>\n",
              "      <td>NaN</td>\n",
              "      <td>So you have a new weapon that can cause un-ima...</td>\n",
              "      <td>1</td>\n",
              "    </tr>\n",
              "    <tr>\n",
              "      <th>2227</th>\n",
              "      <td>3185</td>\n",
              "      <td>deluge</td>\n",
              "      <td>NaN</td>\n",
              "      <td>The f$&amp;amp;@ing things I do for #GISHWHES Just...</td>\n",
              "      <td>0</td>\n",
              "    </tr>\n",
              "    <tr>\n",
              "      <th>5448</th>\n",
              "      <td>7769</td>\n",
              "      <td>police</td>\n",
              "      <td>UK</td>\n",
              "      <td>DT @georgegalloway: RT @Galloway4Mayor: ÛÏThe...</td>\n",
              "      <td>1</td>\n",
              "    </tr>\n",
              "    <tr>\n",
              "      <th>132</th>\n",
              "      <td>191</td>\n",
              "      <td>aftershock</td>\n",
              "      <td>NaN</td>\n",
              "      <td>Aftershock back to school kick off was great. ...</td>\n",
              "      <td>0</td>\n",
              "    </tr>\n",
              "    <tr>\n",
              "      <th>6845</th>\n",
              "      <td>9810</td>\n",
              "      <td>trauma</td>\n",
              "      <td>Montgomery County, MD</td>\n",
              "      <td>in response to trauma Children of Addicts deve...</td>\n",
              "      <td>0</td>\n",
              "    </tr>\n",
              "  </tbody>\n",
              "</table>\n",
              "</div>"
            ],
            "text/plain": [
              "        id  ... target\n",
              "2644  3796  ...      1\n",
              "2227  3185  ...      0\n",
              "5448  7769  ...      1\n",
              "132    191  ...      0\n",
              "6845  9810  ...      0\n",
              "\n",
              "[5 rows x 5 columns]"
            ]
          },
          "metadata": {},
          "execution_count": 9
        }
      ]
    },
    {
      "cell_type": "code",
      "metadata": {
        "colab": {
          "base_uri": "https://localhost:8080/",
          "height": 203
        },
        "id": "MAu7eW_mxP1d",
        "outputId": "3665465d-8c71-4624-cb6a-892066bd3b66"
      },
      "source": [
        "# What does test_df looks like\n",
        "test_df.head()"
      ],
      "execution_count": null,
      "outputs": [
        {
          "output_type": "execute_result",
          "data": {
            "text/html": [
              "<div>\n",
              "<style scoped>\n",
              "    .dataframe tbody tr th:only-of-type {\n",
              "        vertical-align: middle;\n",
              "    }\n",
              "\n",
              "    .dataframe tbody tr th {\n",
              "        vertical-align: top;\n",
              "    }\n",
              "\n",
              "    .dataframe thead th {\n",
              "        text-align: right;\n",
              "    }\n",
              "</style>\n",
              "<table border=\"1\" class=\"dataframe\">\n",
              "  <thead>\n",
              "    <tr style=\"text-align: right;\">\n",
              "      <th></th>\n",
              "      <th>id</th>\n",
              "      <th>keyword</th>\n",
              "      <th>location</th>\n",
              "      <th>text</th>\n",
              "    </tr>\n",
              "  </thead>\n",
              "  <tbody>\n",
              "    <tr>\n",
              "      <th>0</th>\n",
              "      <td>0</td>\n",
              "      <td>NaN</td>\n",
              "      <td>NaN</td>\n",
              "      <td>Just happened a terrible car crash</td>\n",
              "    </tr>\n",
              "    <tr>\n",
              "      <th>1</th>\n",
              "      <td>2</td>\n",
              "      <td>NaN</td>\n",
              "      <td>NaN</td>\n",
              "      <td>Heard about #earthquake is different cities, s...</td>\n",
              "    </tr>\n",
              "    <tr>\n",
              "      <th>2</th>\n",
              "      <td>3</td>\n",
              "      <td>NaN</td>\n",
              "      <td>NaN</td>\n",
              "      <td>there is a forest fire at spot pond, geese are...</td>\n",
              "    </tr>\n",
              "    <tr>\n",
              "      <th>3</th>\n",
              "      <td>9</td>\n",
              "      <td>NaN</td>\n",
              "      <td>NaN</td>\n",
              "      <td>Apocalypse lighting. #Spokane #wildfires</td>\n",
              "    </tr>\n",
              "    <tr>\n",
              "      <th>4</th>\n",
              "      <td>11</td>\n",
              "      <td>NaN</td>\n",
              "      <td>NaN</td>\n",
              "      <td>Typhoon Soudelor kills 28 in China and Taiwan</td>\n",
              "    </tr>\n",
              "  </tbody>\n",
              "</table>\n",
              "</div>"
            ],
            "text/plain": [
              "   id keyword location                                               text\n",
              "0   0     NaN      NaN                 Just happened a terrible car crash\n",
              "1   2     NaN      NaN  Heard about #earthquake is different cities, s...\n",
              "2   3     NaN      NaN  there is a forest fire at spot pond, geese are...\n",
              "3   9     NaN      NaN           Apocalypse lighting. #Spokane #wildfires\n",
              "4  11     NaN      NaN      Typhoon Soudelor kills 28 in China and Taiwan"
            ]
          },
          "metadata": {},
          "execution_count": 10
        }
      ]
    },
    {
      "cell_type": "code",
      "metadata": {
        "colab": {
          "base_uri": "https://localhost:8080/"
        },
        "id": "CK-SmFqOxWH7",
        "outputId": "cfbf10da-8e73-4ab2-93de-8879d63e5018"
      },
      "source": [
        "# How many examples of each class are tehre\n",
        "train_df.target.value_counts()"
      ],
      "execution_count": null,
      "outputs": [
        {
          "output_type": "execute_result",
          "data": {
            "text/plain": [
              "0    4342\n",
              "1    3271\n",
              "Name: target, dtype: int64"
            ]
          },
          "metadata": {},
          "execution_count": 11
        }
      ]
    },
    {
      "cell_type": "code",
      "metadata": {
        "colab": {
          "base_uri": "https://localhost:8080/"
        },
        "id": "5UjJmCAWxg8n",
        "outputId": "a133ea6d-edbc-47bb-873a-af5e3cc0dfd3"
      },
      "source": [
        "# How many total samples\n",
        "len(train_df), len(test_df)"
      ],
      "execution_count": null,
      "outputs": [
        {
          "output_type": "execute_result",
          "data": {
            "text/plain": [
              "(7613, 3263)"
            ]
          },
          "metadata": {},
          "execution_count": 12
        }
      ]
    },
    {
      "cell_type": "code",
      "metadata": {
        "colab": {
          "base_uri": "https://localhost:8080/"
        },
        "id": "ZjOjuaV2x6Vu",
        "outputId": "ae73f50a-0c8c-417b-ea31-882e1495ea5f"
      },
      "source": [
        "# Let's visualize some random training examples\n",
        "import random\n",
        "random_index = random.randint(0, len(train_df)-5) # create random indexes not higher total samples\n",
        "for row in train_df_shuffled[[\"text\", \"target\"]][random_index:random_index+5].itertuples():\n",
        "  _, text, target = row\n",
        "  print(f\"Target: {target}\", \"(real disaster)\" if target > 0 else \"(not real disaster)\")\n",
        "  print(f\"Text:\\n{text}\\n\")\n",
        "  print(\"---\\n\")"
      ],
      "execution_count": null,
      "outputs": [
        {
          "output_type": "stream",
          "text": [
            "Target: 1 (real disaster)\n",
            "Text:\n",
            "CLEARED:incident with injury:I-495  inner loop Exit 31 - MD 97/Georgia Ave Silver Spring\n",
            "\n",
            "---\n",
            "\n",
            "Target: 1 (real disaster)\n",
            "Text:\n",
            "Near them on the sand half sunk a shattered visage lies... http://t.co/0kCCG1BT06\n",
            "\n",
            "---\n",
            "\n",
            "Target: 0 (not real disaster)\n",
            "Text:\n",
            "Element of Freedom: The Biggest Party of the Summer @ Mirage Saturday! Tickets at http://t.co/7hAnPcr5rK\n",
            "\n",
            "---\n",
            "\n",
            "Target: 0 (not real disaster)\n",
            "Text:\n",
            "Reddit's new content policy goes into effect many horrible subreddits banned or quarantined http://t.co/lFW4KUukeM http://t.co/k3mnk9HnZ5\n",
            "\n",
            "---\n",
            "\n",
            "Target: 0 (not real disaster)\n",
            "Text:\n",
            "And the fact that i have a curfew\n",
            "\n",
            "---\n",
            "\n"
          ],
          "name": "stdout"
        }
      ]
    },
    {
      "cell_type": "markdown",
      "metadata": {
        "id": "I3SylF-kywYI"
      },
      "source": [
        "### Split data into training and validation set"
      ]
    },
    {
      "cell_type": "code",
      "metadata": {
        "id": "9kiEQLqu4B8g"
      },
      "source": [
        "from sklearn.model_selection import train_test_split\n"
      ],
      "execution_count": null,
      "outputs": []
    },
    {
      "cell_type": "code",
      "metadata": {
        "id": "e6dZvO9c4LzH"
      },
      "source": [
        "# use train_test_split to split training data into validation_data\n",
        "train_sentences, val_sentences, train_labels, val_labels = train_test_split(train_df_shuffled[\"text\"].to_numpy(),\n",
        "                                                                            train_df_shuffled[\"target\"].to_numpy(),\n",
        "                                                                            test_size=0.1,\n",
        "                                                                            random_state=42)"
      ],
      "execution_count": null,
      "outputs": []
    },
    {
      "cell_type": "code",
      "metadata": {
        "colab": {
          "base_uri": "https://localhost:8080/"
        },
        "id": "iUaGGxo44vR-",
        "outputId": "ff3ab01f-6170-4d38-f324-f91e81f7a55f"
      },
      "source": [
        "# check len\n",
        "len(train_sentences), len(train_labels), len(val_sentences), len(val_labels)"
      ],
      "execution_count": null,
      "outputs": [
        {
          "output_type": "execute_result",
          "data": {
            "text/plain": [
              "(6851, 6851, 762, 762)"
            ]
          },
          "metadata": {},
          "execution_count": 16
        }
      ]
    },
    {
      "cell_type": "code",
      "metadata": {
        "colab": {
          "base_uri": "https://localhost:8080/"
        },
        "id": "L8EKxCIb445a",
        "outputId": "444a9a4b-0c46-405e-8ae6-9c97b11de4dd"
      },
      "source": [
        "# Check the first 10 samples\n",
        "train_sentences[:10], train_labels[:10]"
      ],
      "execution_count": null,
      "outputs": [
        {
          "output_type": "execute_result",
          "data": {
            "text/plain": [
              "(array(['@mogacola @zamtriossu i screamed after hitting tweet',\n",
              "        'Imagine getting flattened by Kurt Zouma',\n",
              "        '@Gurmeetramrahim #MSGDoing111WelfareWorks Green S welfare force ke appx 65000 members har time disaster victim ki help ke liye tyar hai....',\n",
              "        \"@shakjn @C7 @Magnums im shaking in fear he's gonna hack the planet\",\n",
              "        'Somehow find you and I collide http://t.co/Ee8RpOahPk',\n",
              "        '@EvaHanderek @MarleyKnysh great times until the bus driver held us hostage in the mall parking lot lmfao',\n",
              "        'destroy the free fandom honestly',\n",
              "        'Weapons stolen from National Guard Armory in New Albany still missing #Gunsense http://t.co/lKNU8902JE',\n",
              "        '@wfaaweather Pete when will the heat wave pass? Is it really going to be mid month? Frisco Boy Scouts have a canoe trip in Okla.',\n",
              "        'Patient-reported outcomes in long-term survivors of metastatic colorectal cancer - British Journal of Surgery http://t.co/5Yl4DC1Tqt'],\n",
              "       dtype=object), array([0, 0, 1, 0, 0, 1, 1, 0, 1, 1]))"
            ]
          },
          "metadata": {},
          "execution_count": 17
        }
      ]
    },
    {
      "cell_type": "markdown",
      "metadata": {
        "id": "nxBsvmTO5BSO"
      },
      "source": [
        "## Converting text into numbers\n",
        "\n",
        "When dealing with a text problem, one of the first things you'll have to do before you build a model is to convert text into numbers.\n",
        "\n",
        "There are few ways to do this, namely:\n",
        "* Tokenization: direct mapping of token (a token could be word or a character) to number\n",
        "* Embedding: create a mtrix of feature vector for each token (the size of feature vector can be defined and this embedding can be learned)"
      ]
    },
    {
      "cell_type": "markdown",
      "metadata": {
        "id": "co0cYS825VLu"
      },
      "source": [
        "## Text vectorization (Tokenization)"
      ]
    },
    {
      "cell_type": "code",
      "metadata": {
        "id": "YQggaqkv8g6q"
      },
      "source": [
        "import tensorflow as tf\n",
        "from tensorflow.keras.layers.experimental.preprocessing import TextVectorization\n",
        "\n",
        "# # use default TextVectorization paramaters\n",
        "# text_vectorizer = TextVectorization(max_tokens=None, # define how many words in the vocabulory (automatically add <OOV>)\n",
        "#                                     standardize=\"lower_and_strip_punctuation\",\n",
        "#                                     split=\"whitespace\",\n",
        "#                                     ngrams=None, # create groups of n words\n",
        "#                                     output_mode=\"int\", # How map tokens to numbers\n",
        "#                                     output_sequence_length=None, # how long do you want your sequences to be\n",
        "#                                     pad_to_max_tokens=True\n",
        "#                                     )"
      ],
      "execution_count": null,
      "outputs": []
    },
    {
      "cell_type": "code",
      "metadata": {
        "colab": {
          "base_uri": "https://localhost:8080/"
        },
        "id": "pz52x5TA-w99",
        "outputId": "c636e860-fe41-41ac-b713-56579d5e0ba1"
      },
      "source": [
        "# Find average number of tokens (words) in training tweets\n",
        "round(sum([len(i.split()) for i in train_sentences])/len(train_sentences))"
      ],
      "execution_count": null,
      "outputs": [
        {
          "output_type": "execute_result",
          "data": {
            "text/plain": [
              "15"
            ]
          },
          "metadata": {},
          "execution_count": 20
        }
      ]
    },
    {
      "cell_type": "code",
      "metadata": {
        "id": "FkRFepbtAnnM"
      },
      "source": [
        "# Setup text vectorization variables\n",
        "max_vocab_length = 10000 # max number of words to have in our vocabulory\n",
        "max_length = 15 # max length of our sequences would be (eg how many words from tweet our models see?)\n",
        "\n",
        "text_vectorizer = TextVectorization(max_tokens=max_vocab_length,\n",
        "                                    output_mode=\"int\",\n",
        "                                    output_sequence_length=max_length)"
      ],
      "execution_count": null,
      "outputs": []
    },
    {
      "cell_type": "code",
      "metadata": {
        "id": "lhn2VjalBQt8"
      },
      "source": [
        "# Fit the text vectorizer to the training set\n",
        "text_vectorizer.adapt(train_sentences)"
      ],
      "execution_count": null,
      "outputs": []
    },
    {
      "cell_type": "code",
      "metadata": {
        "colab": {
          "base_uri": "https://localhost:8080/"
        },
        "id": "H19zgD8YEpNL",
        "outputId": "c564322f-04b2-4da3-a89c-290316659ebf"
      },
      "source": [
        "# Create a sample sentence and tokenize it\n",
        "sample_sentence = \" There's a flood in my street\"\n",
        "text_vectorizer([sample_sentence])"
      ],
      "execution_count": null,
      "outputs": [
        {
          "output_type": "execute_result",
          "data": {
            "text/plain": [
              "<tf.Tensor: shape=(1, 15), dtype=int64, numpy=\n",
              "array([[264,   3, 232,   4,  13, 698,   0,   0,   0,   0,   0,   0,   0,\n",
              "          0,   0]])>"
            ]
          },
          "metadata": {},
          "execution_count": 23
        }
      ]
    },
    {
      "cell_type": "code",
      "metadata": {
        "colab": {
          "base_uri": "https://localhost:8080/"
        },
        "id": "RzwF_RYNE2jj",
        "outputId": "6bbd90a6-324a-4450-afe7-a5dfff4164cc"
      },
      "source": [
        "# Choose random sentence from the training dataset and tokenize it\n",
        "random_sentence = random.choice(train_sentences)\n",
        "print(f\"Original text:\\n {random_sentence}\\\n",
        "        \\n\\nVectorized version:\")\n",
        "\n",
        "text_vectorizer([random_sentence])"
      ],
      "execution_count": null,
      "outputs": [
        {
          "output_type": "stream",
          "text": [
            "Original text:\n",
            " Map: Typhoon Soudelor's predicted path as it approaches Taiwan; expected to make landfall over southern China by SÛ_ http://t.co/0XCb7yeqmw        \n",
            "\n",
            "Vectorized version:\n"
          ],
          "name": "stdout"
        },
        {
          "output_type": "execute_result",
          "data": {
            "text/plain": [
              "<tf.Tensor: shape=(1, 15), dtype=int64, numpy=\n",
              "array([[1275,  494, 4567, 2789, 2809,   26,   15, 2556, 1248, 1141,    5,\n",
              "         144, 3694,   60, 2690]])>"
            ]
          },
          "metadata": {},
          "execution_count": 24
        }
      ]
    },
    {
      "cell_type": "code",
      "metadata": {
        "id": "N02K5m6LFWYY"
      },
      "source": [
        "# get the unique words in vocabulory\n",
        "words_in_vocab = text_vectorizer.get_vocabulary() # get all the unique words\n",
        "top_5_words = words_in_vocab[:5]\n",
        "bottom_5_words = words_in_vocab[-5:]"
      ],
      "execution_count": null,
      "outputs": []
    },
    {
      "cell_type": "code",
      "metadata": {
        "colab": {
          "base_uri": "https://localhost:8080/"
        },
        "id": "cF81uxdeG78d",
        "outputId": "ca25a290-db82-4d45-b9dd-4856ad1340bf"
      },
      "source": [
        "print(f\"Number of words in vocab: {len(words_in_vocab)}\")\n",
        "print(f\"5 most common words: {top_5_words}\")\n",
        "print(f\"5 least common words: {bottom_5_words}\")"
      ],
      "execution_count": null,
      "outputs": [
        {
          "output_type": "stream",
          "text": [
            "Number of words in vocab: 10000\n",
            "5 most common words: ['', '[UNK]', 'the', 'a', 'in']\n",
            "5 least common words: ['pages', 'paeds', 'pads', 'padres', 'paddytomlinson1']\n"
          ],
          "name": "stdout"
        }
      ]
    },
    {
      "cell_type": "markdown",
      "metadata": {
        "id": "YDD6NgZ4HLmt"
      },
      "source": [
        "### Creating an Embedding using an Embedding layer\n",
        "\n",
        "To make our embedding we are going to use TensorFlow embedding's layer\n",
        "\n",
        "The parameters we care most about our embedding layer:\n",
        "* `input_dim` = size of our vocabulory\n",
        "* `output_dim` = the size of output embedding vector, for example, a value of 100  would mean token get represented by vector 100 long\n",
        "* `input_length` = length of sequences passed to the embedding layer"
      ]
    },
    {
      "cell_type": "code",
      "metadata": {
        "colab": {
          "base_uri": "https://localhost:8080/"
        },
        "id": "it5GIdeKIk_U",
        "outputId": "3962e62f-08de-4fc8-9004-beb34a798087"
      },
      "source": [
        "from tensorflow.keras import layers\n",
        "\n",
        "embedding = layers.Embedding(input_dim=max_vocab_length, # input shape\n",
        "                             output_dim=128, # output shape\n",
        "                             embeddings_initializer=\"uniform\",\n",
        "                             input_length=max_length # how long is each input\n",
        "                             )\n",
        "embedding"
      ],
      "execution_count": null,
      "outputs": [
        {
          "output_type": "execute_result",
          "data": {
            "text/plain": [
              "<keras.layers.embeddings.Embedding at 0x7ff5300cc150>"
            ]
          },
          "metadata": {},
          "execution_count": 27
        }
      ]
    },
    {
      "cell_type": "code",
      "metadata": {
        "colab": {
          "base_uri": "https://localhost:8080/"
        },
        "id": "WaqvlVKnJy-q",
        "outputId": "bfbb21d4-933e-48ef-ce40-b66a796c5b57"
      },
      "source": [
        "# Get a random sentence from training set\n",
        "random_sentence = random.choice(train_sentences)\n",
        "print(f\"Original text:\\n {random_sentence}\\\n",
        "        \\n\\nEmbedded version:\")\n",
        "\n",
        "# Embed the random sentence (turn it into dense vectors of fixed size)\n",
        "sample_embed = embedding(text_vectorizer([random_sentence]))\n",
        "sample_embed"
      ],
      "execution_count": null,
      "outputs": [
        {
          "output_type": "stream",
          "text": [
            "Original text:\n",
            " Officials: Alabama home quarantined over possible Ebola case http://t.co/UYUgFg3k1h        \n",
            "\n",
            "Embedded version:\n"
          ],
          "name": "stdout"
        },
        {
          "output_type": "execute_result",
          "data": {
            "text/plain": [
              "<tf.Tensor: shape=(1, 15, 128), dtype=float32, numpy=\n",
              "array([[[ 0.00315282,  0.03637792, -0.01971934, ..., -0.04903173,\n",
              "          0.00115634,  0.01357133],\n",
              "        [ 0.01391032, -0.02363701,  0.04624157, ...,  0.04407731,\n",
              "         -0.02907783, -0.03929185],\n",
              "        [ 0.00454717, -0.01295703, -0.00409172, ...,  0.00670707,\n",
              "          0.00589393, -0.04865455],\n",
              "        ...,\n",
              "        [-0.00771252, -0.00467433, -0.03614527, ...,  0.03763732,\n",
              "          0.01181948,  0.01504785],\n",
              "        [-0.00771252, -0.00467433, -0.03614527, ...,  0.03763732,\n",
              "          0.01181948,  0.01504785],\n",
              "        [-0.00771252, -0.00467433, -0.03614527, ...,  0.03763732,\n",
              "          0.01181948,  0.01504785]]], dtype=float32)>"
            ]
          },
          "metadata": {},
          "execution_count": 28
        }
      ]
    },
    {
      "cell_type": "code",
      "metadata": {
        "colab": {
          "base_uri": "https://localhost:8080/"
        },
        "id": "z0L-G2LXKPgw",
        "outputId": "771874e5-5d6f-499c-8f41-56649733377d"
      },
      "source": [
        "# Check out single token embedding\n",
        "sample_embed[0][0], sample_embed[0][0].shape, random_sentence"
      ],
      "execution_count": null,
      "outputs": [
        {
          "output_type": "execute_result",
          "data": {
            "text/plain": [
              "(<tf.Tensor: shape=(128,), dtype=float32, numpy=\n",
              " array([ 0.00315282,  0.03637792, -0.01971934,  0.03175657,  0.03309642,\n",
              "        -0.03294275,  0.03924571,  0.02013606,  0.03161471, -0.03758777,\n",
              "        -0.00323486, -0.01300901,  0.01001105,  0.02413725, -0.02048036,\n",
              "         0.00289533,  0.02173892,  0.01766847,  0.0455437 ,  0.02720292,\n",
              "        -0.02097536, -0.03184055, -0.03294554,  0.00646553,  0.02927028,\n",
              "        -0.03136405, -0.04422004, -0.04710921,  0.04855782,  0.02132935,\n",
              "         0.02672884,  0.0160542 , -0.03062043,  0.00481199, -0.00590439,\n",
              "         0.02729565,  0.0154666 , -0.00193818,  0.04966897,  0.02625104,\n",
              "         0.03412301, -0.04513419, -0.02728072, -0.04723741,  0.01816132,\n",
              "        -0.02713267, -0.02630262, -0.03373674, -0.0218274 ,  0.00189825,\n",
              "        -0.0366145 , -0.02622653, -0.04881812,  0.02085834,  0.03742203,\n",
              "        -0.00431839,  0.04031469, -0.01690692, -0.00561547,  0.04993269,\n",
              "         0.04869283,  0.03741861, -0.04607017, -0.02418159, -0.02594949,\n",
              "         0.02388966, -0.03500683,  0.0294686 , -0.03231122, -0.04761102,\n",
              "        -0.00574399, -0.03582273, -0.02100124,  0.03341529,  0.00295488,\n",
              "        -0.02868149, -0.02231852,  0.03714594,  0.00920166, -0.02150502,\n",
              "        -0.0473716 , -0.04383916,  0.00806806,  0.02635176,  0.023771  ,\n",
              "         0.02974012,  0.01933508, -0.03322225, -0.01360378,  0.01972605,\n",
              "        -0.00382128,  0.01417756,  0.04099268,  0.0434779 ,  0.03503028,\n",
              "        -0.03825254, -0.0211901 , -0.03683669, -0.02145045,  0.00319891,\n",
              "         0.03312017,  0.03811452, -0.00450947, -0.00031026, -0.03193124,\n",
              "        -0.03300999,  0.00936048, -0.04021176,  0.04372755, -0.0126905 ,\n",
              "        -0.00883119, -0.03092035,  0.00394956, -0.01795169, -0.03017584,\n",
              "         0.02637025, -0.00968289, -0.02132577, -0.00581991, -0.01046971,\n",
              "         0.04660891, -0.01346042,  0.01535617, -0.01686762,  0.01230247,\n",
              "        -0.04903173,  0.00115634,  0.01357133], dtype=float32)>,\n",
              " TensorShape([128]),\n",
              " 'Officials: Alabama home quarantined over possible Ebola case http://t.co/UYUgFg3k1h')"
            ]
          },
          "metadata": {},
          "execution_count": 29
        }
      ]
    },
    {
      "cell_type": "markdown",
      "metadata": {
        "id": "JH00ur0QKk_K"
      },
      "source": [
        "## Modelling a text dataset (running a series of experiment)\n",
        "\n",
        "Now we've got way to turn our text sequence into numbers, it's time to start series of modelling experiments\n",
        "\n",
        "* Model 0: Naive Bayes (baseline), this is from Sklearn ml map : https://scikit-learn.org/stable/tutorial/machine_learning_map/index.html\n",
        "* Model 1: Feed forward neural network\n",
        "* Model 2: LSTM model (RNN)\n",
        "* Model 3: GRU model (RNN)\n",
        "* Model 4: Bidirectional-LSTM model (RNN)\n",
        "* Model 5: 1D Convolution Neural network (CNN)\n",
        "* Model 6: TensorFlow Hub pretrained feature extractor (using Transfer learning for NLP)\n",
        "* Model 7: Same as model 6 with 10% training data\n",
        "\n",
        "How are we going to approach it?\n",
        "\n",
        "Steps:\n",
        "* Create a model\n",
        "* Build a model\n",
        "* Fit a model\n",
        "* Evaluate our model"
      ]
    },
    {
      "cell_type": "markdown",
      "metadata": {
        "id": "9NjS_be4MoJ4"
      },
      "source": [
        "### Model 0: Getting a baseline\n",
        "\n",
        "As with machine learning experiments it's important to create a baseline model as benchmark\n",
        "\n",
        "To create our baseline, we'll create a Scikit-Learn Pipeline using the TF-IDF (term frequency-inverse document frequency) formula to convert our words to numbers and then model them with the Multinomial Naive Bayes algorithm. This was chosen via referring to the Scikit-Learn machine learning map.\n",
        "\n",
        "> **Note**: It's common practice to use a non-DL algorithms as a baseline because of their speed and then later using DL to see if you can improve upon them"
      ]
    },
    {
      "cell_type": "code",
      "metadata": {
        "colab": {
          "base_uri": "https://localhost:8080/"
        },
        "id": "_5YuLBqPPaKi",
        "outputId": "24af2d0c-0e24-41df-8ab2-874cbaee0107"
      },
      "source": [
        "from sklearn.feature_extraction.text import TfidfVectorizer\n",
        "from sklearn.naive_bayes import MultinomialNB\n",
        "from sklearn.pipeline import Pipeline\n",
        "\n",
        "# Create tokenization and modelling pipeline\n",
        "model_0 = Pipeline([\n",
        "                      (\"tfidf\", TfidfVectorizer()), # convert words to numbers using tfidf\n",
        "                      (\"clf\", MultinomialNB()) # model our text\n",
        "])\n",
        "\n",
        "# Fit the pipeline to training data\n",
        "model_0.fit(train_sentences, train_labels)\n"
      ],
      "execution_count": null,
      "outputs": [
        {
          "output_type": "execute_result",
          "data": {
            "text/plain": [
              "Pipeline(memory=None,\n",
              "         steps=[('tfidf',\n",
              "                 TfidfVectorizer(analyzer='word', binary=False,\n",
              "                                 decode_error='strict',\n",
              "                                 dtype=<class 'numpy.float64'>,\n",
              "                                 encoding='utf-8', input='content',\n",
              "                                 lowercase=True, max_df=1.0, max_features=None,\n",
              "                                 min_df=1, ngram_range=(1, 1), norm='l2',\n",
              "                                 preprocessor=None, smooth_idf=True,\n",
              "                                 stop_words=None, strip_accents=None,\n",
              "                                 sublinear_tf=False,\n",
              "                                 token_pattern='(?u)\\\\b\\\\w\\\\w+\\\\b',\n",
              "                                 tokenizer=None, use_idf=True,\n",
              "                                 vocabulary=None)),\n",
              "                ('clf',\n",
              "                 MultinomialNB(alpha=1.0, class_prior=None, fit_prior=True))],\n",
              "         verbose=False)"
            ]
          },
          "metadata": {},
          "execution_count": 30
        }
      ]
    },
    {
      "cell_type": "code",
      "metadata": {
        "id": "gSBsdwzMQkM4"
      },
      "source": [
        "# Evaluate our baseline model\n",
        "baseline_score = model_0.score(val_sentences, val_labels)"
      ],
      "execution_count": null,
      "outputs": []
    },
    {
      "cell_type": "code",
      "metadata": {
        "colab": {
          "base_uri": "https://localhost:8080/"
        },
        "id": "k3EOZzXPQz4E",
        "outputId": "6a027e3c-9b87-42f6-d33a-ceb14d692e04"
      },
      "source": [
        "print(f\"Baseline model accuracy: {baseline_score*100:.2f}%\")"
      ],
      "execution_count": null,
      "outputs": [
        {
          "output_type": "stream",
          "text": [
            "Baseline model accuracy: 79.27%\n"
          ],
          "name": "stdout"
        }
      ]
    },
    {
      "cell_type": "code",
      "metadata": {
        "colab": {
          "base_uri": "https://localhost:8080/"
        },
        "id": "DRUWgV7fQ7lR",
        "outputId": "a794fa10-83fa-4a7a-a200-6edaf0bd2358"
      },
      "source": [
        "# Make predictions\n",
        "baseline_preds = model_0.predict(val_sentences)\n",
        "baseline_preds[:20]"
      ],
      "execution_count": null,
      "outputs": [
        {
          "output_type": "execute_result",
          "data": {
            "text/plain": [
              "array([1, 1, 1, 0, 0, 1, 1, 1, 1, 0, 0, 1, 0, 0, 0, 0, 0, 0, 0, 1])"
            ]
          },
          "metadata": {},
          "execution_count": 33
        }
      ]
    },
    {
      "cell_type": "markdown",
      "metadata": {
        "id": "L1zztWn6RM6t"
      },
      "source": [
        "### Creating a evaluation function for our modelling experiments\n",
        "\n",
        "We could have model's predictions with different metrics every time, however this will be cumbersome and could easily be fixed with function\n",
        "\n",
        "Let's create one to compare model's prediction with truth labels using following metrics:\n",
        "* Accuracy\n",
        "* Precision\n",
        "* Recall\n",
        "* F1-score"
      ]
    },
    {
      "cell_type": "code",
      "metadata": {
        "id": "XRi1SzZlSMzA"
      },
      "source": [
        "# Function to evaluate: accuracy, precision, recall, f1-score\n",
        "from sklearn.metrics import accuracy_score, precision_recall_fscore_support\n",
        "\n",
        "def calculate_results(y_true, y_pred):\n",
        "  \"\"\"\n",
        "  Calculates model accuracy, precision, recall and f1score of a binary classification model.\n",
        "  \"\"\"\n",
        "  # Calculate model accuracy\n",
        "  model_accuracy = accuracy_score(y_true, y_pred) * 100\n",
        "\n",
        "  # Calculate model precision, recall and f1score using \"weighted average\"\n",
        "  model_precision, model_recall, model_f1, _ = precision_recall_fscore_support(y_true, y_pred, average=\"weighted\")\n",
        "  model_results = {\"accuracy\": model_accuracy,\n",
        "                   \"precision\": model_precision,\n",
        "                   \"recall\": model_recall,\n",
        "                   \"f1\": model_f1}\n",
        "\n",
        "  return model_results"
      ],
      "execution_count": null,
      "outputs": []
    },
    {
      "cell_type": "code",
      "metadata": {
        "colab": {
          "base_uri": "https://localhost:8080/"
        },
        "id": "0jeglOoBT5Xl",
        "outputId": "13942b93-3239-404b-b439-090d65d226e2"
      },
      "source": [
        "# Get baseline results\n",
        "baseline_results = calculate_results(y_true=val_labels,\n",
        "                                     y_pred=baseline_preds)\n",
        "baseline_results"
      ],
      "execution_count": null,
      "outputs": [
        {
          "output_type": "execute_result",
          "data": {
            "text/plain": [
              "{'accuracy': 79.26509186351706,\n",
              " 'f1': 0.7862189758049549,\n",
              " 'precision': 0.8111390004213173,\n",
              " 'recall': 0.7926509186351706}"
            ]
          },
          "metadata": {},
          "execution_count": 35
        }
      ]
    },
    {
      "cell_type": "markdown",
      "metadata": {
        "id": "QOe2qm2nUBaJ"
      },
      "source": [
        "### Model 1: A simple dense model"
      ]
    },
    {
      "cell_type": "code",
      "metadata": {
        "id": "IPwtnWlUFMXf"
      },
      "source": [
        "# Create a tensorborad callback (need to create a new one for each model)\n",
        "from helper_functions import create_tensorboard_callback\n",
        "\n",
        "# Create a directory to save tensorboard logs\n",
        "SAVE_DIR = \"model_logs\""
      ],
      "execution_count": null,
      "outputs": []
    },
    {
      "cell_type": "code",
      "metadata": {
        "id": "iCehfeLUFTFo"
      },
      "source": [
        "# Build model with Functional API\n",
        "from tensorflow.keras import layers\n",
        "inputs = layers.Input(shape=(1,), dtype=tf.string) # inputs are 1-dimensional strings\n",
        "x = text_vectorizer(inputs) # Turn the input text into numbers\n",
        "x = embedding(x) # Create an embedding of the numberized inputs\n",
        "x = layers.GlobalAveragePooling1D()(x) # condense the feature vector for each token to one vector\n",
        "outputs = layers.Dense(1, activation=\"sigmoid\")(x) # Create the output layer, want binary outputs\n",
        "model_1 = tf.keras.Model(inputs, outputs, name=\"model_1_dense\")"
      ],
      "execution_count": null,
      "outputs": []
    },
    {
      "cell_type": "code",
      "metadata": {
        "colab": {
          "base_uri": "https://localhost:8080/"
        },
        "id": "VKVdv-vkGMYy",
        "outputId": "9067ee58-9de7-4447-ac64-9f8f00a62b07"
      },
      "source": [
        "model_1.summary()"
      ],
      "execution_count": null,
      "outputs": [
        {
          "output_type": "stream",
          "text": [
            "Model: \"model_1_dense\"\n",
            "_________________________________________________________________\n",
            "Layer (type)                 Output Shape              Param #   \n",
            "=================================================================\n",
            "input_1 (InputLayer)         [(None, 1)]               0         \n",
            "_________________________________________________________________\n",
            "text_vectorization_1 (TextVe (None, 15)                0         \n",
            "_________________________________________________________________\n",
            "embedding (Embedding)        (None, 15, 128)           1280000   \n",
            "_________________________________________________________________\n",
            "global_average_pooling1d (Gl (None, 128)               0         \n",
            "_________________________________________________________________\n",
            "dense (Dense)                (None, 1)                 129       \n",
            "=================================================================\n",
            "Total params: 1,280,129\n",
            "Trainable params: 1,280,129\n",
            "Non-trainable params: 0\n",
            "_________________________________________________________________\n"
          ],
          "name": "stdout"
        }
      ]
    },
    {
      "cell_type": "code",
      "metadata": {
        "id": "OvSyNY_LGOVz"
      },
      "source": [
        "# Compile model\n",
        "model_1.compile(loss=\"binary_crossentropy\",\n",
        "                optimizer=tf.keras.optimizers.Adam(),\n",
        "                metrics=[\"accuracy\"])"
      ],
      "execution_count": null,
      "outputs": []
    },
    {
      "cell_type": "code",
      "metadata": {
        "colab": {
          "base_uri": "https://localhost:8080/"
        },
        "id": "VKlphrGkGq6u",
        "outputId": "b7448431-b1cf-4b0d-c65f-c52b590e5410"
      },
      "source": [
        "# Fit the model\n",
        "model_1_history = model_1.fit(x=train_sentences,\n",
        "                              y=train_labels,\n",
        "                              epochs=5,\n",
        "                              validation_data=(val_sentences, val_labels),\n",
        "                              callbacks=[create_tensorboard_callback(dir_name=SAVE_DIR,\n",
        "                                                                     experiment_name=\"model_1_dense\")])"
      ],
      "execution_count": null,
      "outputs": [
        {
          "output_type": "stream",
          "text": [
            "Saving TensorBoard log files to: model_logs/model_1_dense/20210819-145127\n",
            "Epoch 1/5\n",
            "215/215 [==============================] - 5s 7ms/step - loss: 0.6083 - accuracy: 0.6965 - val_loss: 0.5362 - val_accuracy: 0.7415\n",
            "Epoch 2/5\n",
            "215/215 [==============================] - 1s 4ms/step - loss: 0.4407 - accuracy: 0.8199 - val_loss: 0.4747 - val_accuracy: 0.7848\n",
            "Epoch 3/5\n",
            "215/215 [==============================] - 1s 4ms/step - loss: 0.3465 - accuracy: 0.8634 - val_loss: 0.4536 - val_accuracy: 0.7900\n",
            "Epoch 4/5\n",
            "215/215 [==============================] - 1s 4ms/step - loss: 0.2840 - accuracy: 0.8908 - val_loss: 0.4631 - val_accuracy: 0.7835\n",
            "Epoch 5/5\n",
            "215/215 [==============================] - 1s 4ms/step - loss: 0.2369 - accuracy: 0.9129 - val_loss: 0.4821 - val_accuracy: 0.7848\n"
          ],
          "name": "stdout"
        }
      ]
    },
    {
      "cell_type": "code",
      "metadata": {
        "colab": {
          "base_uri": "https://localhost:8080/"
        },
        "id": "yeZe2vwdHKic",
        "outputId": "0e32bae2-b4bf-404e-ed40-617b4787e97c"
      },
      "source": [
        "# Check the results\n",
        "model_1.evaluate(val_sentences, val_labels)"
      ],
      "execution_count": null,
      "outputs": [
        {
          "output_type": "stream",
          "text": [
            "24/24 [==============================] - 0s 3ms/step - loss: 0.4821 - accuracy: 0.7848\n"
          ],
          "name": "stdout"
        },
        {
          "output_type": "execute_result",
          "data": {
            "text/plain": [
              "[0.482132226228714, 0.7847769260406494]"
            ]
          },
          "metadata": {},
          "execution_count": 41
        }
      ]
    },
    {
      "cell_type": "code",
      "metadata": {
        "colab": {
          "base_uri": "https://localhost:8080/"
        },
        "id": "9dSJmTusHYoB",
        "outputId": "d4e7d4e2-61f5-4453-82fb-8886e87586be"
      },
      "source": [
        "# Make some predictions and evaluate those\n",
        "model_1_pred_probs = model_1.predict(val_sentences)\n",
        "model_1_pred_probs.shape"
      ],
      "execution_count": null,
      "outputs": [
        {
          "output_type": "execute_result",
          "data": {
            "text/plain": [
              "(762, 1)"
            ]
          },
          "metadata": {},
          "execution_count": 42
        }
      ]
    },
    {
      "cell_type": "code",
      "metadata": {
        "colab": {
          "base_uri": "https://localhost:8080/"
        },
        "id": "4c5-OiwbHfKP",
        "outputId": "a9cc53c6-e4c4-4994-e468-f1af172f7aaa"
      },
      "source": [
        "model_1_pred_probs[:10]"
      ],
      "execution_count": null,
      "outputs": [
        {
          "output_type": "execute_result",
          "data": {
            "text/plain": [
              "array([[0.29385406],\n",
              "       [0.75379765],\n",
              "       [0.9981006 ],\n",
              "       [0.11186773],\n",
              "       [0.09858007],\n",
              "       [0.9443674 ],\n",
              "       [0.91299766],\n",
              "       [0.9933941 ],\n",
              "       [0.96458966],\n",
              "       [0.27200913]], dtype=float32)"
            ]
          },
          "metadata": {},
          "execution_count": 43
        }
      ]
    },
    {
      "cell_type": "code",
      "metadata": {
        "colab": {
          "base_uri": "https://localhost:8080/"
        },
        "id": "RY-WzemlJCCr",
        "outputId": "30ecd1b3-824f-47e4-e5d8-92d262dabd22"
      },
      "source": [
        "# Convert model prediction probabilities to label format\n",
        "model_1_preds = tf.squeeze(tf.round(model_1_pred_probs))\n",
        "model_1_preds[:10]"
      ],
      "execution_count": null,
      "outputs": [
        {
          "output_type": "execute_result",
          "data": {
            "text/plain": [
              "<tf.Tensor: shape=(10,), dtype=float32, numpy=array([0., 1., 1., 0., 0., 1., 1., 1., 1., 0.], dtype=float32)>"
            ]
          },
          "metadata": {},
          "execution_count": 44
        }
      ]
    },
    {
      "cell_type": "code",
      "metadata": {
        "colab": {
          "base_uri": "https://localhost:8080/"
        },
        "id": "3EtDfLxGJXaF",
        "outputId": "ab814edd-4834-4f50-c638-141742b2d7c8"
      },
      "source": [
        "# Calculate model_1 results\n",
        "model_1_results = calculate_results(y_true=val_labels,\n",
        "                                    y_pred=model_1_preds)\n",
        "\n",
        "model_1_results"
      ],
      "execution_count": null,
      "outputs": [
        {
          "output_type": "execute_result",
          "data": {
            "text/plain": [
              "{'accuracy': 78.4776902887139,\n",
              " 'f1': 0.7811320906944167,\n",
              " 'precision': 0.7914526971511877,\n",
              " 'recall': 0.7847769028871391}"
            ]
          },
          "metadata": {},
          "execution_count": 45
        }
      ]
    },
    {
      "cell_type": "code",
      "metadata": {
        "colab": {
          "base_uri": "https://localhost:8080/"
        },
        "id": "B4qoEDezJjZE",
        "outputId": "fbe68b36-b2f5-46e0-8e95-f41fec6070f1"
      },
      "source": [
        "import numpy as np\n",
        "np.array(list(model_1_results.values())) > np.array(list(baseline_results.values()))"
      ],
      "execution_count": null,
      "outputs": [
        {
          "output_type": "execute_result",
          "data": {
            "text/plain": [
              "array([False, False, False, False])"
            ]
          },
          "metadata": {},
          "execution_count": 46
        }
      ]
    },
    {
      "cell_type": "markdown",
      "metadata": {
        "id": "5aUVlTf-JuLG"
      },
      "source": [
        "## Visualizing learned embeddings"
      ]
    },
    {
      "cell_type": "code",
      "metadata": {
        "colab": {
          "base_uri": "https://localhost:8080/"
        },
        "id": "ezwnxZsDx0kg",
        "outputId": "3432e796-93ab-4ee1-fa40-2cb5d9f4119d"
      },
      "source": [
        "# Get the vocabulory from the text vectorization\n",
        "words_in_vocab = text_vectorizer.get_vocabulary()\n",
        "len(words_in_vocab), words_in_vocab[:10]"
      ],
      "execution_count": null,
      "outputs": [
        {
          "output_type": "execute_result",
          "data": {
            "text/plain": [
              "(10000, ['', '[UNK]', 'the', 'a', 'in', 'to', 'of', 'and', 'i', 'is'])"
            ]
          },
          "metadata": {},
          "execution_count": 47
        }
      ]
    },
    {
      "cell_type": "code",
      "metadata": {
        "colab": {
          "base_uri": "https://localhost:8080/"
        },
        "id": "kUptcXP5yPsq",
        "outputId": "544aa621-2ea2-4158-f057-e57b74167201"
      },
      "source": [
        "# Get the weight matrix of embedding layer\n",
        "# (these are the numerical representation of each token in out training data which have been learned for 5 epochs)\n",
        "embed_weights = model_1.get_layer(\"embedding\").get_weights()[0]\n",
        "print(embed_weights.shape)  # same as vocab  size and embedding_dim (output_dim of our embedding layer)"
      ],
      "execution_count": null,
      "outputs": [
        {
          "output_type": "stream",
          "text": [
            "(10000, 128)\n"
          ],
          "name": "stdout"
        }
      ]
    },
    {
      "cell_type": "markdown",
      "metadata": {
        "id": "UFV8OHruzZTW"
      },
      "source": [
        "Now we've got the embedding matrix our model has learned to represent our tokens, let's see how we can visualize it\n",
        "\n",
        "To do sp, TensorFlow has a handy tool called projector : https://projector.tensorflow.org/\n",
        "\n",
        "And also guide on word embedding:"
      ]
    },
    {
      "cell_type": "code",
      "metadata": {
        "id": "I7836pU5y3bz"
      },
      "source": [
        "# Create embedding files (we've got this frm Tensorflow word embeddings documentation)\n",
        "# import io\n",
        "#out_v = io.open('vectors.tsv', 'w', encoding='utf-8')\n",
        "#out_m = io.open('metadata.tsv', 'w', encoding='utf-8')\n",
        "\n",
        "#for index, word in enumerate(words_in_vocab):\n",
        " # if index == 0:\n",
        "   # continue  # skip 0, it's padding.\n",
        " # vec = embed_weights[index]\n",
        " # out_v.write('\\t'.join([str(x) for x in vec]) + \"\\n\")\n",
        " # out_m.write(word + \"\\n\")\n",
        "#out_v.close()\n",
        "#out_m.close()"
      ],
      "execution_count": null,
      "outputs": []
    },
    {
      "cell_type": "code",
      "metadata": {
        "id": "-sbPR5Ia0-pl"
      },
      "source": [
        "# Download files from Colab to upload to projector\n",
        "#try:\n",
        "  #from google.colab import files\n",
        "  #files.download('vectors.tsv')\n",
        "  #files.download('metadata.tsv')\n",
        "#except Exception:\n",
        " # pass"
      ],
      "execution_count": null,
      "outputs": []
    },
    {
      "cell_type": "markdown",
      "metadata": {
        "id": "5rTUgHjA18Xh"
      },
      "source": [
        "> Note: Check out Jay Alammar's word2vec post"
      ]
    },
    {
      "cell_type": "markdown",
      "metadata": {
        "id": "-MzRoYya4_l-"
      },
      "source": [
        "## Recurrent Neural Networks (RNN)\n",
        "\n",
        "RNN' useful for sequence data\n",
        "\n",
        "The premise of RNN is to use the representation of previous input to aid the representation of a later input\n"
      ]
    },
    {
      "cell_type": "markdown",
      "metadata": {
        "id": "DHoG-i9zD_TN"
      },
      "source": [
        "### Model 2: LSTM\n",
        "\n",
        "LSTM = long Short Term Memory (one of the most popular LSTM cells)\n",
        "\n",
        "Our strructure of RNN typically looks like this:\n",
        "\n",
        "```\n",
        "Input (text) -> Tokenize -> Embedding -> Layers (RNN/dense) -> Ouput (label probability)\n",
        "```"
      ]
    },
    {
      "cell_type": "code",
      "metadata": {
        "colab": {
          "base_uri": "https://localhost:8080/"
        },
        "id": "C1BZ5Ll7EOL8",
        "outputId": "ab8c21b9-f90e-4fb5-b654-936014e53536"
      },
      "source": [
        "# Create LSTM model\n",
        "from tensorflow.keras import layers\n",
        "inputs = layers.Input(shape=(1,), dtype=\"string\")\n",
        "x = text_vectorizer(inputs)\n",
        "x = embedding(x)\n",
        "print(x.shape)\n",
        "# x = layers.LSTM(64, return_sequences=True)(x) # return vector for each word in the Tweet (you can stack RNN cells as long as return_sequences=True)\n",
        "x = layers.LSTM(64)(x) # return vector for whole sequence\n",
        "print(x.shape)\n",
        "# x = layers.Dense(64, activation=\"relu\")(x) # optional dense layer on top of output of LSTM cell\n",
        "outputs = layers.Dense(1, activation=\"sigmoid\")(x)\n",
        "model_2 = tf.keras.Model(inputs, outputs, name=\"model_2_LSTM\")"
      ],
      "execution_count": null,
      "outputs": [
        {
          "output_type": "stream",
          "text": [
            "(None, 15, 128)\n",
            "(None, 64)\n"
          ],
          "name": "stdout"
        }
      ]
    },
    {
      "cell_type": "code",
      "metadata": {
        "colab": {
          "base_uri": "https://localhost:8080/"
        },
        "id": "sAWJNv31HXjp",
        "outputId": "d91b1819-78c9-4eed-c9c7-d982efdefd85"
      },
      "source": [
        "model_2.summary()"
      ],
      "execution_count": null,
      "outputs": [
        {
          "output_type": "stream",
          "text": [
            "Model: \"model_2_LSTM\"\n",
            "_________________________________________________________________\n",
            "Layer (type)                 Output Shape              Param #   \n",
            "=================================================================\n",
            "input_2 (InputLayer)         [(None, 1)]               0         \n",
            "_________________________________________________________________\n",
            "text_vectorization_1 (TextVe (None, 15)                0         \n",
            "_________________________________________________________________\n",
            "embedding (Embedding)        (None, 15, 128)           1280000   \n",
            "_________________________________________________________________\n",
            "lstm (LSTM)                  (None, 64)                49408     \n",
            "_________________________________________________________________\n",
            "dense_1 (Dense)              (None, 1)                 65        \n",
            "=================================================================\n",
            "Total params: 1,329,473\n",
            "Trainable params: 1,329,473\n",
            "Non-trainable params: 0\n",
            "_________________________________________________________________\n"
          ],
          "name": "stdout"
        }
      ]
    },
    {
      "cell_type": "code",
      "metadata": {
        "id": "otF5yUaIJpEr"
      },
      "source": [
        "# Compile model\n",
        "model_2.compile(loss=\"binary_crossentropy\",\n",
        "                optimizer=tf.keras.optimizers.Adam(),\n",
        "                metrics=[\"accuracy\"])"
      ],
      "execution_count": null,
      "outputs": []
    },
    {
      "cell_type": "code",
      "metadata": {
        "colab": {
          "base_uri": "https://localhost:8080/"
        },
        "id": "YWEgWwdkMRLL",
        "outputId": "89cdce46-0030-4ad2-a54a-d093c981cd07"
      },
      "source": [
        "# Fit model\n",
        "model_2_history = model_2.fit(train_sentences,\n",
        "                              train_labels,\n",
        "                              epochs=5,\n",
        "                              validation_data=(val_sentences, val_labels),\n",
        "                              callbacks=[create_tensorboard_callback(SAVE_DIR,\n",
        "                                                                     \"LSTM\")])"
      ],
      "execution_count": null,
      "outputs": [
        {
          "output_type": "stream",
          "text": [
            "Saving TensorBoard log files to: model_logs/LSTM/20210819-145139\n",
            "Epoch 1/5\n",
            "215/215 [==============================] - 7s 11ms/step - loss: 0.2260 - accuracy: 0.9190 - val_loss: 0.6603 - val_accuracy: 0.7730\n",
            "Epoch 2/5\n",
            "215/215 [==============================] - 1s 6ms/step - loss: 0.1580 - accuracy: 0.9413 - val_loss: 0.6118 - val_accuracy: 0.7861\n",
            "Epoch 3/5\n",
            "215/215 [==============================] - 1s 6ms/step - loss: 0.1270 - accuracy: 0.9523 - val_loss: 0.8198 - val_accuracy: 0.7730\n",
            "Epoch 4/5\n",
            "215/215 [==============================] - 1s 6ms/step - loss: 0.1061 - accuracy: 0.9622 - val_loss: 0.6973 - val_accuracy: 0.7795\n",
            "Epoch 5/5\n",
            "215/215 [==============================] - 1s 6ms/step - loss: 0.0937 - accuracy: 0.9660 - val_loss: 0.8804 - val_accuracy: 0.7703\n"
          ],
          "name": "stdout"
        }
      ]
    },
    {
      "cell_type": "code",
      "metadata": {
        "colab": {
          "base_uri": "https://localhost:8080/"
        },
        "id": "jCEalqI5MV29",
        "outputId": "229026ed-2cdc-4eef-cbcd-64f13b4de5a1"
      },
      "source": [
        "# Make predictions on the validation dataset\n",
        "model_2_pred_probs = model_2.predict(val_sentences)\n",
        "model_2_pred_probs.shape, model_2_pred_probs[:10] # view the first 10"
      ],
      "execution_count": null,
      "outputs": [
        {
          "output_type": "execute_result",
          "data": {
            "text/plain": [
              "((762, 1), array([[3.0188009e-02],\n",
              "        [8.8271356e-01],\n",
              "        [9.9974245e-01],\n",
              "        [4.3458581e-02],\n",
              "        [6.5241044e-04],\n",
              "        [9.9719965e-01],\n",
              "        [8.8119787e-01],\n",
              "        [9.9980766e-01],\n",
              "        [9.9968338e-01],\n",
              "        [6.8411165e-01]], dtype=float32))"
            ]
          },
          "metadata": {},
          "execution_count": 55
        }
      ]
    },
    {
      "cell_type": "code",
      "metadata": {
        "colab": {
          "base_uri": "https://localhost:8080/"
        },
        "id": "ae_w9HdvMdh6",
        "outputId": "5c6bf1df-9ec8-4904-85af-c4e86a328b03"
      },
      "source": [
        "# Convert model 2 probs to labels\n",
        "model_2_preds = tf.squeeze(tf.round(model_2_pred_probs))\n",
        "model_2_preds[:10]"
      ],
      "execution_count": null,
      "outputs": [
        {
          "output_type": "execute_result",
          "data": {
            "text/plain": [
              "<tf.Tensor: shape=(10,), dtype=float32, numpy=array([0., 1., 1., 0., 0., 1., 1., 1., 1., 1.], dtype=float32)>"
            ]
          },
          "metadata": {},
          "execution_count": 56
        }
      ]
    },
    {
      "cell_type": "code",
      "metadata": {
        "colab": {
          "base_uri": "https://localhost:8080/"
        },
        "id": "4b6JcG7PMpUt",
        "outputId": "a25546e2-847d-48a2-c6ec-d239011f1a57"
      },
      "source": [
        "# Calculate LSTM model results\n",
        "model_2_results = calculate_results(y_true=val_labels,\n",
        "                                    y_pred=model_2_preds)\n",
        "model_2_results"
      ],
      "execution_count": null,
      "outputs": [
        {
          "output_type": "execute_result",
          "data": {
            "text/plain": [
              "{'accuracy': 77.03412073490814,\n",
              " 'f1': 0.7694283709964855,\n",
              " 'precision': 0.7701965974536404,\n",
              " 'recall': 0.7703412073490814}"
            ]
          },
          "metadata": {},
          "execution_count": 57
        }
      ]
    },
    {
      "cell_type": "markdown",
      "metadata": {
        "id": "hyH_e3m2Msqh"
      },
      "source": [
        "### Model 3: GRU\n",
        "\n",
        "Another popular and effective RNN component is GRU or gated recurrent unit.\n",
        "\n",
        "The GRU cell has similiar features to an LSTM cell but has less parameters"
      ]
    },
    {
      "cell_type": "code",
      "metadata": {
        "id": "_sIy6RqAPCoL"
      },
      "source": [
        "# Build an RNN using GRU cell\n",
        "from tensorflow.keras import layers\n",
        "inputs = layers.Input(shape=(1,), dtype=tf.string)\n",
        "x = text_vectorizer(inputs)\n",
        "x = embedding(x)\n",
        "x = layers.GRU(64)(x)\n",
        "#x = layers.GRU(64, return_sequences=True)(x) # If you need to stack recurrent layers on the top of each other, you need return_sequences=True\n",
        "#x = layers.LSTM(64)(x)\n",
        "#x = layers.GRU(64)(x)\n",
        "#x = layers.Dense(64, activation=\"relu\")(x)\n",
        "#x = layers.GlobalAveragePooling1D()(x)\n",
        "outputs = layers.Dense(1, activation=\"sigmoid\")(x)\n",
        "model_3 = tf.keras.Model(inputs, outputs, name=\"model_3_GRU\")\n"
      ],
      "execution_count": null,
      "outputs": []
    },
    {
      "cell_type": "code",
      "metadata": {
        "colab": {
          "base_uri": "https://localhost:8080/"
        },
        "id": "orYxPHm1QTmi",
        "outputId": "75a06629-da2e-4497-b49a-39c389a053ff"
      },
      "source": [
        "model_3.summary()"
      ],
      "execution_count": null,
      "outputs": [
        {
          "output_type": "stream",
          "text": [
            "Model: \"model_3_GRU\"\n",
            "_________________________________________________________________\n",
            "Layer (type)                 Output Shape              Param #   \n",
            "=================================================================\n",
            "input_3 (InputLayer)         [(None, 1)]               0         \n",
            "_________________________________________________________________\n",
            "text_vectorization_1 (TextVe (None, 15)                0         \n",
            "_________________________________________________________________\n",
            "embedding (Embedding)        (None, 15, 128)           1280000   \n",
            "_________________________________________________________________\n",
            "gru (GRU)                    (None, 64)                37248     \n",
            "_________________________________________________________________\n",
            "dense_2 (Dense)              (None, 1)                 65        \n",
            "=================================================================\n",
            "Total params: 1,317,313\n",
            "Trainable params: 1,317,313\n",
            "Non-trainable params: 0\n",
            "_________________________________________________________________\n"
          ],
          "name": "stdout"
        }
      ]
    },
    {
      "cell_type": "code",
      "metadata": {
        "id": "vrixEkcaRcFO"
      },
      "source": [
        "# Compile the model\n",
        "model_3.compile(loss=\"binary_crossentropy\",\n",
        "                optimizer=tf.keras.optimizers.Adam(),\n",
        "                metrics=[\"accuracy\"])"
      ],
      "execution_count": null,
      "outputs": []
    },
    {
      "cell_type": "code",
      "metadata": {
        "colab": {
          "base_uri": "https://localhost:8080/"
        },
        "id": "CUpGYdFJSEou",
        "outputId": "a08e06b0-033f-4f33-d3d1-63b78cb0f805"
      },
      "source": [
        "# Fit model\n",
        "model_3_history = model_3.fit(train_sentences,\n",
        "                              train_labels,\n",
        "                              epochs=5,\n",
        "                              validation_data=(val_sentences, val_labels),\n",
        "                              callbacks=[create_tensorboard_callback(SAVE_DIR,\n",
        "                                                                     \"GRU\")])"
      ],
      "execution_count": null,
      "outputs": [
        {
          "output_type": "stream",
          "text": [
            "Saving TensorBoard log files to: model_logs/GRU/20210819-145202\n",
            "Epoch 1/5\n",
            "215/215 [==============================] - 4s 11ms/step - loss: 0.1581 - accuracy: 0.9367 - val_loss: 0.6997 - val_accuracy: 0.7795\n",
            "Epoch 2/5\n",
            "215/215 [==============================] - 1s 6ms/step - loss: 0.0834 - accuracy: 0.9692 - val_loss: 0.9427 - val_accuracy: 0.7808\n",
            "Epoch 3/5\n",
            "215/215 [==============================] - 1s 6ms/step - loss: 0.0699 - accuracy: 0.9731 - val_loss: 0.9295 - val_accuracy: 0.7743\n",
            "Epoch 4/5\n",
            "215/215 [==============================] - 1s 6ms/step - loss: 0.0660 - accuracy: 0.9736 - val_loss: 0.9572 - val_accuracy: 0.7703\n",
            "Epoch 5/5\n",
            "215/215 [==============================] - 1s 6ms/step - loss: 0.0536 - accuracy: 0.9781 - val_loss: 1.1096 - val_accuracy: 0.7782\n"
          ],
          "name": "stdout"
        }
      ]
    },
    {
      "cell_type": "code",
      "metadata": {
        "colab": {
          "base_uri": "https://localhost:8080/"
        },
        "id": "FTkS5vGzSJ6u",
        "outputId": "46f8186a-1f43-42c9-9a61-048c77638877"
      },
      "source": [
        "# Make some predictions\n",
        "model_3_pred_probs = model_3.predict(val_sentences)\n",
        "model_3_pred_probs[:10]"
      ],
      "execution_count": null,
      "outputs": [
        {
          "output_type": "execute_result",
          "data": {
            "text/plain": [
              "array([[1.05083222e-03],\n",
              "       [9.41429317e-01],\n",
              "       [9.99784529e-01],\n",
              "       [7.30372146e-02],\n",
              "       [1.01576166e-04],\n",
              "       [9.99473393e-01],\n",
              "       [7.46154308e-01],\n",
              "       [9.99915123e-01],\n",
              "       [9.99851704e-01],\n",
              "       [9.28586066e-01]], dtype=float32)"
            ]
          },
          "metadata": {},
          "execution_count": 62
        }
      ]
    },
    {
      "cell_type": "code",
      "metadata": {
        "colab": {
          "base_uri": "https://localhost:8080/"
        },
        "id": "HYqvaK3ISW42",
        "outputId": "882b519b-e37d-4c5f-a005-08aa249f2771"
      },
      "source": [
        "model_3_preds = tf.squeeze(tf.round(model_3_pred_probs))\n",
        "model_3_preds[:10]"
      ],
      "execution_count": null,
      "outputs": [
        {
          "output_type": "execute_result",
          "data": {
            "text/plain": [
              "<tf.Tensor: shape=(10,), dtype=float32, numpy=array([0., 1., 1., 0., 0., 1., 1., 1., 1., 1.], dtype=float32)>"
            ]
          },
          "metadata": {},
          "execution_count": 63
        }
      ]
    },
    {
      "cell_type": "code",
      "metadata": {
        "colab": {
          "base_uri": "https://localhost:8080/"
        },
        "id": "KgvAP2kSSdle",
        "outputId": "d628b282-b9cf-48ab-e8eb-8243636d7aaa"
      },
      "source": [
        "# Calculate LSTM model results\n",
        "model_3_results = calculate_results(y_true=val_labels,\n",
        "                                    y_pred=model_3_preds)\n",
        "model_3_results"
      ],
      "execution_count": null,
      "outputs": [
        {
          "output_type": "execute_result",
          "data": {
            "text/plain": [
              "{'accuracy': 77.82152230971128,\n",
              " 'f1': 0.7763875633348853,\n",
              " 'precision': 0.7796479981380524,\n",
              " 'recall': 0.7782152230971129}"
            ]
          },
          "metadata": {},
          "execution_count": 64
        }
      ]
    },
    {
      "cell_type": "markdown",
      "metadata": {
        "id": "koIZV3kYShKY"
      },
      "source": [
        "### Model 4: Bidirectional RNN\n",
        "\n",
        "Normal RNN go from left to right however bidirectional RNN goes from right to left as well as left to right\n"
      ]
    },
    {
      "cell_type": "code",
      "metadata": {
        "id": "xXdjACaqTEik"
      },
      "source": [
        "# Build a bidirectional RNN\n",
        "from tensorflow.keras import layers\n",
        "inputs = layers.Input(shape=(1,), dtype=tf.string)\n",
        "\n",
        "x = text_vectorizer(inputs)\n",
        "x = embedding(x)\n",
        "#x = layers.Bidirectional(layers.LSTM(64, return_sequences=True))(x)\n",
        "x = layers.Bidirectional(layers.LSTM(64))(x) # If you need to stack recurrent layers on the top of each other, you need return_sequences=True\n",
        "\n",
        "outputs = layers.Dense(1, activation=\"sigmoid\")(x)\n",
        "model_4 = tf.keras.Model(inputs, outputs, name=\"model_4_Bidirectional\")\n"
      ],
      "execution_count": null,
      "outputs": []
    },
    {
      "cell_type": "code",
      "metadata": {
        "colab": {
          "base_uri": "https://localhost:8080/"
        },
        "id": "qsWpt0sQUYyA",
        "outputId": "9884dc32-45f8-4b38-a9a3-3b18abc482ba"
      },
      "source": [
        "# Model summary\n",
        "model_4.summary()"
      ],
      "execution_count": null,
      "outputs": [
        {
          "output_type": "stream",
          "text": [
            "Model: \"model_4_Bidirectional\"\n",
            "_________________________________________________________________\n",
            "Layer (type)                 Output Shape              Param #   \n",
            "=================================================================\n",
            "input_4 (InputLayer)         [(None, 1)]               0         \n",
            "_________________________________________________________________\n",
            "text_vectorization_1 (TextVe (None, 15)                0         \n",
            "_________________________________________________________________\n",
            "embedding (Embedding)        (None, 15, 128)           1280000   \n",
            "_________________________________________________________________\n",
            "bidirectional (Bidirectional (None, 128)               98816     \n",
            "_________________________________________________________________\n",
            "dense_3 (Dense)              (None, 1)                 129       \n",
            "=================================================================\n",
            "Total params: 1,378,945\n",
            "Trainable params: 1,378,945\n",
            "Non-trainable params: 0\n",
            "_________________________________________________________________\n"
          ],
          "name": "stdout"
        }
      ]
    },
    {
      "cell_type": "code",
      "metadata": {
        "id": "BuTFTOBBUjvh"
      },
      "source": [
        "# Compile the model\n",
        "model_4.compile(loss=\"binary_crossentropy\",\n",
        "                optimizer=tf.keras.optimizers.Adam(),\n",
        "                metrics=[\"accuracy\"])"
      ],
      "execution_count": null,
      "outputs": []
    },
    {
      "cell_type": "code",
      "metadata": {
        "colab": {
          "base_uri": "https://localhost:8080/"
        },
        "id": "w8IDSvJRVAKi",
        "outputId": "fe5193ff-a010-4eb7-a409-7e908cafd094"
      },
      "source": [
        "# Fit model\n",
        "model_4_history = model_4.fit(train_sentences,\n",
        "                              train_labels,\n",
        "                              epochs=5,\n",
        "                              validation_data=(val_sentences, val_labels),\n",
        "                              callbacks=[create_tensorboard_callback(SAVE_DIR,\n",
        "                                                                     \"Bidirectional\")])"
      ],
      "execution_count": null,
      "outputs": [
        {
          "output_type": "stream",
          "text": [
            "Saving TensorBoard log files to: model_logs/Bidirectional/20210819-145212\n",
            "Epoch 1/5\n",
            "215/215 [==============================] - 5s 14ms/step - loss: 0.1027 - accuracy: 0.9715 - val_loss: 1.0647 - val_accuracy: 0.7677\n",
            "Epoch 2/5\n",
            "215/215 [==============================] - 2s 8ms/step - loss: 0.0524 - accuracy: 0.9788 - val_loss: 1.0330 - val_accuracy: 0.7703\n",
            "Epoch 3/5\n",
            "215/215 [==============================] - 2s 8ms/step - loss: 0.0468 - accuracy: 0.9800 - val_loss: 1.3715 - val_accuracy: 0.7756\n",
            "Epoch 4/5\n",
            "215/215 [==============================] - 2s 8ms/step - loss: 0.0475 - accuracy: 0.9801 - val_loss: 1.4122 - val_accuracy: 0.7664\n",
            "Epoch 5/5\n",
            "215/215 [==============================] - 2s 8ms/step - loss: 0.0411 - accuracy: 0.9819 - val_loss: 1.2659 - val_accuracy: 0.7625\n"
          ],
          "name": "stdout"
        }
      ]
    },
    {
      "cell_type": "code",
      "metadata": {
        "colab": {
          "base_uri": "https://localhost:8080/"
        },
        "id": "Z98FYJUjVFLH",
        "outputId": "71400d0b-61f5-49e5-c3d4-6a7517f1af99"
      },
      "source": [
        "# Make some predictions\n",
        "model_4_pred_probs = model_4.predict(val_sentences)\n",
        "model_4_pred_probs[:10]"
      ],
      "execution_count": null,
      "outputs": [
        {
          "output_type": "execute_result",
          "data": {
            "text/plain": [
              "array([[6.4382465e-03],\n",
              "       [6.8000668e-01],\n",
              "       [9.9990952e-01],\n",
              "       [1.6228098e-01],\n",
              "       [7.0795584e-05],\n",
              "       [9.9711549e-01],\n",
              "       [3.1507224e-01],\n",
              "       [9.9997091e-01],\n",
              "       [9.9995327e-01],\n",
              "       [9.9107051e-01]], dtype=float32)"
            ]
          },
          "metadata": {},
          "execution_count": 69
        }
      ]
    },
    {
      "cell_type": "code",
      "metadata": {
        "colab": {
          "base_uri": "https://localhost:8080/"
        },
        "id": "gcL9IjDPVNFJ",
        "outputId": "263b528b-81ac-4555-e96a-680937efeb5f"
      },
      "source": [
        "model_4_preds = tf.squeeze(tf.round(model_4_pred_probs))\n",
        "model_4_preds[:10]"
      ],
      "execution_count": null,
      "outputs": [
        {
          "output_type": "execute_result",
          "data": {
            "text/plain": [
              "<tf.Tensor: shape=(10,), dtype=float32, numpy=array([0., 1., 1., 0., 0., 1., 0., 1., 1., 1.], dtype=float32)>"
            ]
          },
          "metadata": {},
          "execution_count": 70
        }
      ]
    },
    {
      "cell_type": "code",
      "metadata": {
        "colab": {
          "base_uri": "https://localhost:8080/"
        },
        "id": "SYgInk50VR8j",
        "outputId": "d1390418-842a-4d8d-bc74-ee9d1bbd2783"
      },
      "source": [
        "# Calculate LSTM model results\n",
        "model_4_results = calculate_results(y_true=val_labels,\n",
        "                                    y_pred=model_4_preds)\n",
        "model_4_results"
      ],
      "execution_count": null,
      "outputs": [
        {
          "output_type": "execute_result",
          "data": {
            "text/plain": [
              "{'accuracy': 76.24671916010499,\n",
              " 'f1': 0.7609952154742672,\n",
              " 'precision': 0.7628028463824278,\n",
              " 'recall': 0.7624671916010499}"
            ]
          },
          "metadata": {},
          "execution_count": 71
        }
      ]
    },
    {
      "cell_type": "markdown",
      "metadata": {
        "id": "jeOMe4iaVW7O"
      },
      "source": [
        "## Convolution Neural Networks for Text (and other types of sequences)\n",
        "\n",
        "Here text data is 1D, unlike the Conv2D for images\n",
        "\n",
        "The typical structure for Conv1D model for the sequences (in out case, text):\n",
        "\n",
        "```\n",
        "Inputs(text) -> Tokenization -> Embedding -> Layer(s) (typically Conv1D + pooling) -> Ouputs (class probabilities)\n"
      ]
    },
    {
      "cell_type": "markdown",
      "metadata": {
        "id": "TO-qvWpI2pN_"
      },
      "source": [
        "### Model 5: Conv1D"
      ]
    },
    {
      "cell_type": "code",
      "metadata": {
        "colab": {
          "base_uri": "https://localhost:8080/"
        },
        "id": "7m6PkpBu3XXN",
        "outputId": "a67e5c07-44c6-492f-95cf-50c1f7978413"
      },
      "source": [
        "# Test our embedding layer, Conv1D layer and max pooling\n",
        "embedding_test = embedding(text_vectorizer([\"This is a test sentence\"]))\n",
        "conv_1d = layers.Conv1D(filters=32,\n",
        "                        kernel_size=5, # looks 5 words at a time\n",
        "                        activation=\"relu\",\n",
        "                        padding=\"valid\")\n",
        "\n",
        "conv_1d_output = conv_1d(embedding_test) # Pass test embedding through conv\n",
        "max_pool = layers.GlobalMaxPool1D()\n",
        "max_pool_output = max_pool(conv_1d_output) # get the most important feature\n",
        "\n",
        "embedding_test.shape, conv_1d_output.shape, max_pool_output.shape"
      ],
      "execution_count": null,
      "outputs": [
        {
          "output_type": "execute_result",
          "data": {
            "text/plain": [
              "(TensorShape([1, 15, 128]), TensorShape([1, 11, 32]), TensorShape([1, 32]))"
            ]
          },
          "metadata": {},
          "execution_count": 72
        }
      ]
    },
    {
      "cell_type": "code",
      "metadata": {
        "id": "DyZZJHkU4bzA",
        "colab": {
          "base_uri": "https://localhost:8080/"
        },
        "outputId": "8c22668e-1dc5-4a6d-e70d-95978c15e958"
      },
      "source": [
        "embedding_test"
      ],
      "execution_count": null,
      "outputs": [
        {
          "output_type": "execute_result",
          "data": {
            "text/plain": [
              "<tf.Tensor: shape=(1, 15, 128), dtype=float32, numpy=\n",
              "array([[[-0.07725899, -0.00208617,  0.01275189, ...,  0.04161704,\n",
              "         -0.06714877,  0.03499146],\n",
              "        [-0.01904166,  0.00544956,  0.00141586, ...,  0.01907289,\n",
              "         -0.04917812,  0.04855959],\n",
              "        [-0.03216459, -0.03571119,  0.03529596, ...,  0.07050278,\n",
              "         -0.03342109,  0.00516381],\n",
              "        ...,\n",
              "        [-0.01870003,  0.00282878, -0.01714854, ...,  0.03047674,\n",
              "         -0.01698542,  0.03576649],\n",
              "        [-0.01870003,  0.00282878, -0.01714854, ...,  0.03047674,\n",
              "         -0.01698542,  0.03576649],\n",
              "        [-0.01870003,  0.00282878, -0.01714854, ...,  0.03047674,\n",
              "         -0.01698542,  0.03576649]]], dtype=float32)>"
            ]
          },
          "metadata": {},
          "execution_count": 73
        }
      ]
    },
    {
      "cell_type": "code",
      "metadata": {
        "id": "qkKICiUF6EW7",
        "colab": {
          "base_uri": "https://localhost:8080/"
        },
        "outputId": "63caf7b1-c829-48d1-dd73-d3f352c6d7f1"
      },
      "source": [
        "conv_1d_output"
      ],
      "execution_count": null,
      "outputs": [
        {
          "output_type": "execute_result",
          "data": {
            "text/plain": [
              "<tf.Tensor: shape=(1, 11, 32), dtype=float32, numpy=\n",
              "array([[[0.        , 0.00229936, 0.04345039, 0.02494564, 0.09108376,\n",
              "         0.        , 0.        , 0.        , 0.02324758, 0.04570533,\n",
              "         0.01253909, 0.00815487, 0.01656542, 0.04578978, 0.02833251,\n",
              "         0.        , 0.        , 0.01609664, 0.00619181, 0.        ,\n",
              "         0.        , 0.        , 0.        , 0.        , 0.        ,\n",
              "         0.00904534, 0.02160474, 0.        , 0.        , 0.        ,\n",
              "         0.        , 0.03360397],\n",
              "        [0.03250078, 0.        , 0.04206443, 0.03854398, 0.03586268,\n",
              "         0.0168672 , 0.        , 0.        , 0.        , 0.        ,\n",
              "         0.        , 0.        , 0.        , 0.        , 0.0466136 ,\n",
              "         0.        , 0.06614183, 0.        , 0.        , 0.        ,\n",
              "         0.01051596, 0.00058154, 0.05222114, 0.00374603, 0.        ,\n",
              "         0.00979178, 0.        , 0.        , 0.02708707, 0.03214677,\n",
              "         0.01649703, 0.        ],\n",
              "        [0.03940763, 0.        , 0.        , 0.03108393, 0.        ,\n",
              "         0.03338103, 0.        , 0.        , 0.02957511, 0.08648816,\n",
              "         0.0590044 , 0.        , 0.03424337, 0.03559617, 0.        ,\n",
              "         0.03159086, 0.00943159, 0.        , 0.00446534, 0.        ,\n",
              "         0.06294878, 0.        , 0.02355678, 0.        , 0.01134204,\n",
              "         0.        , 0.        , 0.        , 0.02155826, 0.        ,\n",
              "         0.05865832, 0.        ],\n",
              "        [0.03340743, 0.        , 0.04868884, 0.        , 0.03406057,\n",
              "         0.03453527, 0.        , 0.        , 0.        , 0.02984978,\n",
              "         0.03839716, 0.        , 0.02617605, 0.03539878, 0.        ,\n",
              "         0.00394197, 0.        , 0.        , 0.        , 0.        ,\n",
              "         0.03036973, 0.03115488, 0.00320999, 0.        , 0.        ,\n",
              "         0.00642993, 0.02762724, 0.06761575, 0.03271902, 0.        ,\n",
              "         0.0018133 , 0.05370044],\n",
              "        [0.03080286, 0.        , 0.        , 0.        , 0.01639479,\n",
              "         0.01590915, 0.01173131, 0.06187479, 0.        , 0.02703785,\n",
              "         0.00908778, 0.04103464, 0.02392833, 0.0206689 , 0.01969459,\n",
              "         0.03877335, 0.        , 0.        , 0.        , 0.01763397,\n",
              "         0.        , 0.01839325, 0.        , 0.        , 0.        ,\n",
              "         0.00358273, 0.00390827, 0.01416305, 0.        , 0.        ,\n",
              "         0.02728111, 0.        ],\n",
              "        [0.02892075, 0.        , 0.        , 0.        , 0.01396173,\n",
              "         0.00385232, 0.        , 0.02861881, 0.        , 0.00616484,\n",
              "         0.03782068, 0.0001077 , 0.03371298, 0.        , 0.02324473,\n",
              "         0.        , 0.00685314, 0.        , 0.        , 0.02131451,\n",
              "         0.01779928, 0.        , 0.00436927, 0.        , 0.01457841,\n",
              "         0.        , 0.0068578 , 0.0362008 , 0.        , 0.        ,\n",
              "         0.01713571, 0.        ],\n",
              "        [0.02892074, 0.        , 0.        , 0.        , 0.01396172,\n",
              "         0.00385231, 0.        , 0.02861881, 0.        , 0.00616484,\n",
              "         0.03782068, 0.00010771, 0.03371298, 0.        , 0.02324473,\n",
              "         0.        , 0.00685314, 0.        , 0.        , 0.02131451,\n",
              "         0.01779929, 0.        , 0.00436926, 0.        , 0.01457841,\n",
              "         0.        , 0.0068578 , 0.0362008 , 0.        , 0.        ,\n",
              "         0.01713571, 0.        ],\n",
              "        [0.02892074, 0.        , 0.        , 0.        , 0.01396173,\n",
              "         0.00385231, 0.        , 0.0286188 , 0.        , 0.00616485,\n",
              "         0.03782068, 0.00010771, 0.03371298, 0.        , 0.02324472,\n",
              "         0.        , 0.00685314, 0.        , 0.        , 0.02131452,\n",
              "         0.01779929, 0.        , 0.00436927, 0.        , 0.01457841,\n",
              "         0.        , 0.0068578 , 0.03620081, 0.        , 0.        ,\n",
              "         0.0171357 , 0.        ],\n",
              "        [0.02892074, 0.        , 0.        , 0.        , 0.01396173,\n",
              "         0.0038523 , 0.        , 0.02861881, 0.        , 0.00616485,\n",
              "         0.03782068, 0.00010772, 0.03371298, 0.        , 0.02324473,\n",
              "         0.        , 0.00685314, 0.        , 0.        , 0.02131451,\n",
              "         0.01779928, 0.        , 0.00436926, 0.        , 0.01457842,\n",
              "         0.        , 0.00685779, 0.0362008 , 0.        , 0.        ,\n",
              "         0.01713571, 0.        ],\n",
              "        [0.02892074, 0.        , 0.        , 0.        , 0.01396173,\n",
              "         0.00385231, 0.        , 0.02861882, 0.        , 0.00616485,\n",
              "         0.03782068, 0.00010771, 0.03371298, 0.        , 0.02324473,\n",
              "         0.        , 0.00685315, 0.        , 0.        , 0.02131451,\n",
              "         0.01779928, 0.        , 0.00436926, 0.        , 0.01457842,\n",
              "         0.        , 0.0068578 , 0.0362008 , 0.        , 0.        ,\n",
              "         0.0171357 , 0.        ],\n",
              "        [0.02892074, 0.        , 0.        , 0.        , 0.01396172,\n",
              "         0.00385231, 0.        , 0.02861881, 0.        , 0.00616485,\n",
              "         0.03782068, 0.0001077 , 0.03371298, 0.        , 0.02324473,\n",
              "         0.        , 0.00685314, 0.        , 0.        , 0.02131451,\n",
              "         0.01779929, 0.        , 0.00436926, 0.        , 0.01457841,\n",
              "         0.        , 0.0068578 , 0.0362008 , 0.        , 0.        ,\n",
              "         0.01713571, 0.        ]]], dtype=float32)>"
            ]
          },
          "metadata": {},
          "execution_count": 74
        }
      ]
    },
    {
      "cell_type": "code",
      "metadata": {
        "colab": {
          "base_uri": "https://localhost:8080/"
        },
        "id": "4s3gVMv76Kk4",
        "outputId": "d380ad3d-d826-442e-c208-4b0c521c93d6"
      },
      "source": [
        "max_pool_output"
      ],
      "execution_count": null,
      "outputs": [
        {
          "output_type": "execute_result",
          "data": {
            "text/plain": [
              "<tf.Tensor: shape=(1, 32), dtype=float32, numpy=\n",
              "array([[0.03940763, 0.00229936, 0.04868884, 0.03854398, 0.09108376,\n",
              "        0.03453527, 0.01173131, 0.06187479, 0.02957511, 0.08648816,\n",
              "        0.0590044 , 0.04103464, 0.03424337, 0.04578978, 0.0466136 ,\n",
              "        0.03877335, 0.06614183, 0.01609664, 0.00619181, 0.02131452,\n",
              "        0.06294878, 0.03115488, 0.05222114, 0.00374603, 0.01457842,\n",
              "        0.00979178, 0.02762724, 0.06761575, 0.03271902, 0.03214677,\n",
              "        0.05865832, 0.05370044]], dtype=float32)>"
            ]
          },
          "metadata": {},
          "execution_count": 75
        }
      ]
    },
    {
      "cell_type": "code",
      "metadata": {
        "colab": {
          "base_uri": "https://localhost:8080/"
        },
        "id": "XLGVV8fy6a_y",
        "outputId": "df1cea8f-6c98-4aa4-e560-feaa4ae534c2"
      },
      "source": [
        "# Create Conv1D layer to model sequences\n",
        "from tensorflow.keras import layers\n",
        "inputs = layers.Input(shape=(1,), dtype=tf.string)\n",
        "x = text_vectorizer(inputs)\n",
        "x = embedding(x)\n",
        "x = layers.Conv1D(filters=64, kernel_size=5, activation=\"relu\", strides=1, padding=\"valid\")(x)\n",
        "x = layers.GlobalMaxPool1D()(x)\n",
        "# x = layers.Dense(64, activation=\"relu\")(x)\n",
        "outputs = layers.Dense(1, activation=\"sigmoid\")(x)\n",
        "model_5 = tf.keras.Model(inputs, outputs, name=\"model_5_Conv1D\")\n",
        "\n",
        "# Compile Conv1D\n",
        "model_5.compile(loss=\"binary_crossentropy\",\n",
        "                optimizer=tf.keras.optimizers.Adam(),\n",
        "                metrics=[\"accuracy\"])\n",
        "\n",
        "# get model 5 summary\n",
        "model_5.summary()"
      ],
      "execution_count": null,
      "outputs": [
        {
          "output_type": "stream",
          "text": [
            "Model: \"model_5_Conv1D\"\n",
            "_________________________________________________________________\n",
            "Layer (type)                 Output Shape              Param #   \n",
            "=================================================================\n",
            "input_5 (InputLayer)         [(None, 1)]               0         \n",
            "_________________________________________________________________\n",
            "text_vectorization_1 (TextVe (None, 15)                0         \n",
            "_________________________________________________________________\n",
            "embedding (Embedding)        (None, 15, 128)           1280000   \n",
            "_________________________________________________________________\n",
            "conv1d_1 (Conv1D)            (None, 11, 64)            41024     \n",
            "_________________________________________________________________\n",
            "global_max_pooling1d_1 (Glob (None, 64)                0         \n",
            "_________________________________________________________________\n",
            "dense_4 (Dense)              (None, 1)                 65        \n",
            "=================================================================\n",
            "Total params: 1,321,089\n",
            "Trainable params: 1,321,089\n",
            "Non-trainable params: 0\n",
            "_________________________________________________________________\n"
          ],
          "name": "stdout"
        }
      ]
    },
    {
      "cell_type": "code",
      "metadata": {
        "colab": {
          "base_uri": "https://localhost:8080/"
        },
        "id": "33GBZ2kp_fJw",
        "outputId": "8e356c7a-5205-4626-c0ab-3941b1fd9e67"
      },
      "source": [
        "# Fit the model\n",
        "model_5_history = model_5.fit(train_sentences,\n",
        "                              train_labels, epochs=5,\n",
        "                              validation_data=(val_sentences, val_labels),\n",
        "                              callbacks=[create_tensorboard_callback(SAVE_DIR, \"Conv1D\")])"
      ],
      "execution_count": null,
      "outputs": [
        {
          "output_type": "stream",
          "text": [
            "Saving TensorBoard log files to: model_logs/Conv1D/20210819-145250\n",
            "Epoch 1/5\n",
            "215/215 [==============================] - 4s 9ms/step - loss: 0.1192 - accuracy: 0.9612 - val_loss: 0.9562 - val_accuracy: 0.7677\n",
            "Epoch 2/5\n",
            "215/215 [==============================] - 1s 5ms/step - loss: 0.0760 - accuracy: 0.9715 - val_loss: 1.0286 - val_accuracy: 0.7598\n",
            "Epoch 3/5\n",
            "215/215 [==============================] - 1s 5ms/step - loss: 0.0603 - accuracy: 0.9762 - val_loss: 1.1838 - val_accuracy: 0.7612\n",
            "Epoch 4/5\n",
            "215/215 [==============================] - 1s 5ms/step - loss: 0.0559 - accuracy: 0.9787 - val_loss: 1.2390 - val_accuracy: 0.7625\n",
            "Epoch 5/5\n",
            "215/215 [==============================] - 1s 5ms/step - loss: 0.0497 - accuracy: 0.9796 - val_loss: 1.2832 - val_accuracy: 0.7520\n"
          ],
          "name": "stdout"
        }
      ]
    },
    {
      "cell_type": "code",
      "metadata": {
        "colab": {
          "base_uri": "https://localhost:8080/"
        },
        "id": "IoXnmTtJ_-NN",
        "outputId": "4f62e7c7-8c6a-404b-c12f-3a4c18c233c5"
      },
      "source": [
        "# Make some predictions with our conv1D model\n",
        "model_5_pred_probs = model_5.predict(val_sentences)\n",
        "model_5_pred_probs[:10]"
      ],
      "execution_count": null,
      "outputs": [
        {
          "output_type": "execute_result",
          "data": {
            "text/plain": [
              "array([[2.1166660e-02],\n",
              "       [8.0003905e-01],\n",
              "       [9.9987125e-01],\n",
              "       [4.4586767e-02],\n",
              "       [1.2977739e-08],\n",
              "       [9.7885531e-01],\n",
              "       [8.2011300e-01],\n",
              "       [9.9992955e-01],\n",
              "       [9.9999595e-01],\n",
              "       [8.0425733e-01]], dtype=float32)"
            ]
          },
          "metadata": {},
          "execution_count": 78
        }
      ]
    },
    {
      "cell_type": "code",
      "metadata": {
        "colab": {
          "base_uri": "https://localhost:8080/"
        },
        "id": "q_QukDBxALMZ",
        "outputId": "db09ecbc-727c-41a6-a2ed-a60849923203"
      },
      "source": [
        "# Convert pred to labels\n",
        "model_5_preds = tf.squeeze(tf.round(model_5_pred_probs))\n",
        "model_5_preds[:10]"
      ],
      "execution_count": null,
      "outputs": [
        {
          "output_type": "execute_result",
          "data": {
            "text/plain": [
              "<tf.Tensor: shape=(10,), dtype=float32, numpy=array([0., 1., 1., 0., 0., 1., 1., 1., 1., 1.], dtype=float32)>"
            ]
          },
          "metadata": {},
          "execution_count": 79
        }
      ]
    },
    {
      "cell_type": "code",
      "metadata": {
        "id": "ybHDqL6lAV0S"
      },
      "source": [
        "# Evaluate\n",
        "model_5_results = calculate_results(val_labels, model_5_preds)"
      ],
      "execution_count": null,
      "outputs": []
    },
    {
      "cell_type": "code",
      "metadata": {
        "colab": {
          "base_uri": "https://localhost:8080/"
        },
        "id": "0Pwwtl0eAhaK",
        "outputId": "45dead49-28fc-4947-d081-b885ffee3900"
      },
      "source": [
        "model_5_results"
      ],
      "execution_count": null,
      "outputs": [
        {
          "output_type": "execute_result",
          "data": {
            "text/plain": [
              "{'accuracy': 75.19685039370079,\n",
              " 'f1': 0.7497885511234939,\n",
              " 'precision': 0.7529888699847289,\n",
              " 'recall': 0.7519685039370079}"
            ]
          },
          "metadata": {},
          "execution_count": 81
        }
      ]
    },
    {
      "cell_type": "markdown",
      "metadata": {
        "id": "3P_8g8erHI3t"
      },
      "source": [
        "## Model6: Tensorflow Hub pretrained Sentence encoder\n",
        "\n",
        "Universal samples encoder"
      ]
    },
    {
      "cell_type": "code",
      "metadata": {
        "colab": {
          "base_uri": "https://localhost:8080/"
        },
        "id": "0awwquh1MKA6",
        "outputId": "f7048354-9829-4ee1-de01-456409848858"
      },
      "source": [
        "import tensorflow_hub as hub\n",
        "embed = hub.load(\"https://tfhub.dev/google/universal-sentence-encoder/4\")\n",
        "embed_samples = embed([sample_sentence, \"When you can the unviresal encoder on sentence, it turns into numbers\"])\n",
        "\n",
        "print(embed_samples[0][:50])"
      ],
      "execution_count": null,
      "outputs": [
        {
          "output_type": "stream",
          "text": [
            "tf.Tensor(\n",
            "[-0.01157027  0.0248591   0.02878048 -0.012715    0.03971538  0.0882776\n",
            "  0.02680985  0.05589838 -0.01068729 -0.00597292  0.00639323 -0.0181952\n",
            "  0.00030814  0.09105888  0.05874645 -0.03180628  0.01512474 -0.05162929\n",
            "  0.00991367 -0.06865346 -0.04209305  0.0267898   0.03011008  0.00321069\n",
            " -0.00337971 -0.04787356  0.02266719 -0.00985925 -0.04063613 -0.01292093\n",
            " -0.04666384  0.056303   -0.03949255  0.00517688  0.02495828 -0.07014441\n",
            "  0.02871508  0.04947684 -0.00633978 -0.08960193  0.02807117 -0.00808362\n",
            " -0.01360601  0.0599865  -0.10361787 -0.05195374  0.00232955 -0.0233253\n",
            " -0.03758105  0.03327729], shape=(50,), dtype=float32)\n"
          ],
          "name": "stdout"
        }
      ]
    },
    {
      "cell_type": "code",
      "metadata": {
        "id": "UgyloAZZOMVG"
      },
      "source": [
        "# Create a Keras Layer using USE pretrained layer\n",
        "sentence_encoder_layer = hub.KerasLayer(\"https://tfhub.dev/google/universal-sentence-encoder/4\",\n",
        "                                        input_shape=[],\n",
        "                                        dtype=tf.string,\n",
        "                                        trainable=False,\n",
        "                                        name=\"USE\")"
      ],
      "execution_count": null,
      "outputs": []
    },
    {
      "cell_type": "code",
      "metadata": {
        "id": "hlZdUocMSg5C"
      },
      "source": [
        "# Create model using sequential API\n",
        "model_6 = tf.keras.Sequential([\n",
        "      sentence_encoder_layer,\n",
        "      layers.Dense(64, activation=\"relu\"),\n",
        "      layers.Dense(1, activation=\"sigmoid\")\n",
        "], name=\"model_6_USE\")"
      ],
      "execution_count": null,
      "outputs": []
    },
    {
      "cell_type": "code",
      "metadata": {
        "id": "7PhZA885S8R2"
      },
      "source": [
        "# Compile\n",
        "model_6.compile(loss=\"binary_crossentropy\",\n",
        "                optimizer=tf.keras.optimizers.Adam(),\n",
        "                metrics=[\"accuracy\"])"
      ],
      "execution_count": null,
      "outputs": []
    },
    {
      "cell_type": "code",
      "metadata": {
        "colab": {
          "base_uri": "https://localhost:8080/"
        },
        "id": "6fedSHtgS_NI",
        "outputId": "cf211b6d-138b-4f5c-e803-573ea65edb99"
      },
      "source": [
        "model_6.summary()"
      ],
      "execution_count": null,
      "outputs": [
        {
          "output_type": "stream",
          "text": [
            "Model: \"model_6_USE\"\n",
            "_________________________________________________________________\n",
            "Layer (type)                 Output Shape              Param #   \n",
            "=================================================================\n",
            "USE (KerasLayer)             (None, 512)               256797824 \n",
            "_________________________________________________________________\n",
            "dense_5 (Dense)              (None, 64)                32832     \n",
            "_________________________________________________________________\n",
            "dense_6 (Dense)              (None, 1)                 65        \n",
            "=================================================================\n",
            "Total params: 256,830,721\n",
            "Trainable params: 32,897\n",
            "Non-trainable params: 256,797,824\n",
            "_________________________________________________________________\n"
          ],
          "name": "stdout"
        }
      ]
    },
    {
      "cell_type": "code",
      "metadata": {
        "colab": {
          "base_uri": "https://localhost:8080/"
        },
        "id": "lc9o0dZcTAcz",
        "outputId": "273499e0-921b-41a9-af13-3a5424ad9fc1"
      },
      "source": [
        "#  Train a classifier on top of USE pretrained embeddings\n",
        "model_6_history = model_6.fit(train_sentences,\n",
        "                              train_labels,\n",
        "                              epochs=5,\n",
        "                              validation_data=(val_sentences, val_labels),\n",
        "                              callbacks=[create_tensorboard_callback(SAVE_DIR, \"tf_hub_sentence_encoder\")])"
      ],
      "execution_count": null,
      "outputs": [
        {
          "output_type": "stream",
          "text": [
            "Saving TensorBoard log files to: model_logs/tf_hub_sentence_encoder/20210819-145321\n",
            "Epoch 1/5\n",
            "215/215 [==============================] - 7s 24ms/step - loss: 0.5048 - accuracy: 0.7863 - val_loss: 0.4459 - val_accuracy: 0.7953\n",
            "Epoch 2/5\n",
            "215/215 [==============================] - 2s 11ms/step - loss: 0.4150 - accuracy: 0.8154 - val_loss: 0.4368 - val_accuracy: 0.8045\n",
            "Epoch 3/5\n",
            "215/215 [==============================] - 2s 11ms/step - loss: 0.4007 - accuracy: 0.8215 - val_loss: 0.4346 - val_accuracy: 0.8071\n",
            "Epoch 4/5\n",
            "215/215 [==============================] - 2s 11ms/step - loss: 0.3926 - accuracy: 0.8241 - val_loss: 0.4296 - val_accuracy: 0.8097\n",
            "Epoch 5/5\n",
            "215/215 [==============================] - 2s 11ms/step - loss: 0.3856 - accuracy: 0.8314 - val_loss: 0.4391 - val_accuracy: 0.8058\n"
          ],
          "name": "stdout"
        }
      ]
    },
    {
      "cell_type": "code",
      "metadata": {
        "colab": {
          "base_uri": "https://localhost:8080/"
        },
        "id": "33HEGf4wTekh",
        "outputId": "5b0fefb9-b033-4477-ef4d-8a8d869cec02"
      },
      "source": [
        "# Make some predictions with our conv1D model\n",
        "model_6_pred_probs = model_6.predict(val_sentences)\n",
        "model_6_pred_probs[:10]"
      ],
      "execution_count": null,
      "outputs": [
        {
          "output_type": "execute_result",
          "data": {
            "text/plain": [
              "array([[0.1275312 ],\n",
              "       [0.75556064],\n",
              "       [0.9890659 ],\n",
              "       [0.18554153],\n",
              "       [0.64724714],\n",
              "       [0.68922263],\n",
              "       [0.9757361 ],\n",
              "       [0.9724954 ],\n",
              "       [0.9378454 ],\n",
              "       [0.07190886]], dtype=float32)"
            ]
          },
          "metadata": {},
          "execution_count": 88
        }
      ]
    },
    {
      "cell_type": "code",
      "metadata": {
        "colab": {
          "base_uri": "https://localhost:8080/"
        },
        "id": "2wXSmXC9TT2K",
        "outputId": "63d127b3-6eb7-439d-8985-21750050c124"
      },
      "source": [
        "# Convert pred to labels\n",
        "model_6_preds = tf.squeeze(tf.round(model_6_pred_probs))\n",
        "model_6_preds[:10]"
      ],
      "execution_count": null,
      "outputs": [
        {
          "output_type": "execute_result",
          "data": {
            "text/plain": [
              "<tf.Tensor: shape=(10,), dtype=float32, numpy=array([0., 1., 1., 0., 1., 1., 1., 1., 1., 0.], dtype=float32)>"
            ]
          },
          "metadata": {},
          "execution_count": 89
        }
      ]
    },
    {
      "cell_type": "code",
      "metadata": {
        "colab": {
          "base_uri": "https://localhost:8080/"
        },
        "id": "MX1tfZkrTkKN",
        "outputId": "aa268827-b06b-476c-b9fc-902fc345d222"
      },
      "source": [
        "# Calculate results\n",
        "model_6_results = calculate_results(val_labels, model_6_preds)\n",
        "model_6_results"
      ],
      "execution_count": null,
      "outputs": [
        {
          "output_type": "execute_result",
          "data": {
            "text/plain": [
              "{'accuracy': 80.5774278215223,\n",
              " 'f1': 0.8027699557689516,\n",
              " 'precision': 0.812489180208857,\n",
              " 'recall': 0.8057742782152231}"
            ]
          },
          "metadata": {},
          "execution_count": 90
        }
      ]
    },
    {
      "cell_type": "code",
      "metadata": {
        "colab": {
          "base_uri": "https://localhost:8080/"
        },
        "id": "0_K1UYqKTr5W",
        "outputId": "cb0b1be7-b1b0-4620-b2f1-47c5528d3985"
      },
      "source": [
        "baseline_results"
      ],
      "execution_count": null,
      "outputs": [
        {
          "output_type": "execute_result",
          "data": {
            "text/plain": [
              "{'accuracy': 79.26509186351706,\n",
              " 'f1': 0.7862189758049549,\n",
              " 'precision': 0.8111390004213173,\n",
              " 'recall': 0.7926509186351706}"
            ]
          },
          "metadata": {},
          "execution_count": 91
        }
      ]
    },
    {
      "cell_type": "markdown",
      "metadata": {
        "id": "ynlPqkm2TvoE"
      },
      "source": [
        "## Model 7: TF Hub Pretrained but with 10% training data\n",
        "\n",
        "Transfer learning helps when you don't have a large dataset"
      ]
    },
    {
      "cell_type": "code",
      "metadata": {
        "id": "vmZz0ZUiU1hD"
      },
      "source": [
        "## NOTE: Making data splits like below leads to data leakage (model_7 trained on 10% data, outperforms model_6 trained o 100% data)\n",
        "## DO NOT MAKE DATA SPLITS WHICH LEAK DATA FROM VALIDATION/TEST SETS INTO TRAINING SET\n",
        "\n",
        "# Create subsets of 10% of training data\n",
        "train_10_percent = train_df_shuffled[[\"text\", \"target\"]].sample(frac=0.1, random_state=42)\n",
        "# train_10_percent.head()\n",
        "train_sentences_10_percent = train_10_percent[\"text\"].to_list()\n",
        "train_labels_10_percent = train_10_percent[\"target\"].to_list()\n"
      ],
      "execution_count": null,
      "outputs": []
    },
    {
      "cell_type": "markdown",
      "metadata": {
        "id": "FX-GxbtycoV6"
      },
      "source": [
        "> **Note**:  be very careful when creating training/val/test splits that you don't leak data across the datasets, otherwise your model evaluation might be wrong. If something looks too good to be true ( a model trained on 10% of data outperforming the same model trained on 100% of data)\n",
        "Go back find erroe!"
      ]
    },
    {
      "cell_type": "code",
      "metadata": {
        "id": "OkGVpaxAbYSN"
      },
      "source": [
        "# Making a better dataset split , no data leakage\n",
        "train_10_percent_split = int(0.1 * len(train_sentences))\n",
        "train_sentences_10_percent = train_sentences[:train_10_percent_split]\n",
        "train_labels_10_percent = train_labels[:train_10_percent_split]"
      ],
      "execution_count": null,
      "outputs": []
    },
    {
      "cell_type": "code",
      "metadata": {
        "colab": {
          "base_uri": "https://localhost:8080/"
        },
        "id": "DFrblRBsb628",
        "outputId": "be77a0df-221a-457a-b8c2-1a4c0e9474a1"
      },
      "source": [
        "# Check the no of each label in updated train data subset\n",
        "pd.Series(np.array(train_labels_10_percent)).value_counts()"
      ],
      "execution_count": null,
      "outputs": [
        {
          "output_type": "execute_result",
          "data": {
            "text/plain": [
              "0    406\n",
              "1    279\n",
              "dtype: int64"
            ]
          },
          "metadata": {},
          "execution_count": 94
        }
      ]
    },
    {
      "cell_type": "code",
      "metadata": {
        "colab": {
          "base_uri": "https://localhost:8080/"
        },
        "id": "ucDuNOQSVDh_",
        "outputId": "b18e1baf-afe0-45f8-c565-6d6dfca7970b"
      },
      "source": [
        "# Check number of tragets in our subsets of data\n",
        "train_10_percent[\"target\"].value_counts()"
      ],
      "execution_count": null,
      "outputs": [
        {
          "output_type": "execute_result",
          "data": {
            "text/plain": [
              "0    413\n",
              "1    348\n",
              "Name: target, dtype: int64"
            ]
          },
          "metadata": {},
          "execution_count": 95
        }
      ]
    },
    {
      "cell_type": "code",
      "metadata": {
        "colab": {
          "base_uri": "https://localhost:8080/"
        },
        "id": "Yj5BSCbzV1qO",
        "outputId": "413af53f-acd2-4869-b7d7-989745d48a86"
      },
      "source": [
        "train_df_shuffled[\"target\"].value_counts()"
      ],
      "execution_count": null,
      "outputs": [
        {
          "output_type": "execute_result",
          "data": {
            "text/plain": [
              "0    4342\n",
              "1    3271\n",
              "Name: target, dtype: int64"
            ]
          },
          "metadata": {},
          "execution_count": 96
        }
      ]
    },
    {
      "cell_type": "markdown",
      "metadata": {
        "id": "wNX-7OCVV95P"
      },
      "source": [
        "To recreate a model same as to model you created you can use `tf.keras.models.clone_model()` method, see more:"
      ]
    },
    {
      "cell_type": "code",
      "metadata": {
        "colab": {
          "base_uri": "https://localhost:8080/"
        },
        "id": "IRQ9E2mlWc_w",
        "outputId": "31681d34-4d64-41ba-f281-2ceaf8dfdbee"
      },
      "source": [
        "# Create a same model as model 6\n",
        "# model_7 = tf.keras.models.clone_model(model_6)\n",
        "model_7 = tf.keras.Sequential([\n",
        "      sentence_encoder_layer,\n",
        "      layers.Dense(64, activation=\"relu\"),\n",
        "      layers.Dense(1, activation=\"sigmoid\")\n",
        "], name=\"model_7_USE\")\n",
        "\n",
        "# Compile the model\n",
        "model_7.compile(loss=\"binary_crossentropy\",\n",
        "                optimizer=tf.keras.optimizers.Adam(),\n",
        "                metrics=[\"accuracy\"])\n",
        "\n",
        "# get summary same as model 6\n",
        "model_7.summary()"
      ],
      "execution_count": null,
      "outputs": [
        {
          "output_type": "stream",
          "text": [
            "Model: \"model_7_USE\"\n",
            "_________________________________________________________________\n",
            "Layer (type)                 Output Shape              Param #   \n",
            "=================================================================\n",
            "USE (KerasLayer)             (None, 512)               256797824 \n",
            "_________________________________________________________________\n",
            "dense_7 (Dense)              (None, 64)                32832     \n",
            "_________________________________________________________________\n",
            "dense_8 (Dense)              (None, 1)                 65        \n",
            "=================================================================\n",
            "Total params: 256,830,721\n",
            "Trainable params: 32,897\n",
            "Non-trainable params: 256,797,824\n",
            "_________________________________________________________________\n"
          ],
          "name": "stdout"
        }
      ]
    },
    {
      "cell_type": "code",
      "metadata": {
        "colab": {
          "base_uri": "https://localhost:8080/"
        },
        "id": "Yw2_K_-mW4Vo",
        "outputId": "89704dce-f5c3-4f97-9023-11e3e8b490f0"
      },
      "source": [
        "# Fit the model to 10% training data subset\n",
        "model_7_history = model_7.fit(train_sentences_10_percent,\n",
        "                              train_labels_10_percent,\n",
        "                              epochs=5,\n",
        "                              validation_data=(val_sentences, val_labels),\n",
        "                              callbacks=[create_tensorboard_callback(SAVE_DIR, \"tf_hub_sentence_encoder_10_percent_correct_split\")])"
      ],
      "execution_count": null,
      "outputs": [
        {
          "output_type": "stream",
          "text": [
            "Saving TensorBoard log files to: model_logs/tf_hub_sentence_encoder_10_percent_correct_split/20210819-145338\n",
            "Epoch 1/5\n",
            "22/22 [==============================] - 3s 86ms/step - loss: 0.6730 - accuracy: 0.6613 - val_loss: 0.6512 - val_accuracy: 0.7441\n",
            "Epoch 2/5\n",
            "22/22 [==============================] - 1s 25ms/step - loss: 0.6058 - accuracy: 0.8073 - val_loss: 0.5934 - val_accuracy: 0.7690\n",
            "Epoch 3/5\n",
            "22/22 [==============================] - 1s 25ms/step - loss: 0.5307 - accuracy: 0.8073 - val_loss: 0.5397 - val_accuracy: 0.7730\n",
            "Epoch 4/5\n",
            "22/22 [==============================] - 1s 24ms/step - loss: 0.4698 - accuracy: 0.8190 - val_loss: 0.5071 - val_accuracy: 0.7769\n",
            "Epoch 5/5\n",
            "22/22 [==============================] - 1s 24ms/step - loss: 0.4267 - accuracy: 0.8248 - val_loss: 0.4906 - val_accuracy: 0.7743\n"
          ],
          "name": "stdout"
        }
      ]
    },
    {
      "cell_type": "code",
      "metadata": {
        "colab": {
          "base_uri": "https://localhost:8080/"
        },
        "id": "9uPlem1LXVCl",
        "outputId": "8ea113b3-b6e6-4481-cbe2-a995cb13eb08"
      },
      "source": [
        "# Make some predictions with our conv1D model\n",
        "model_7_pred_probs = model_7.predict(val_sentences)\n",
        "model_7_pred_probs[:10]"
      ],
      "execution_count": null,
      "outputs": [
        {
          "output_type": "execute_result",
          "data": {
            "text/plain": [
              "array([[0.22573267],\n",
              "       [0.59722126],\n",
              "       [0.8973773 ],\n",
              "       [0.35136148],\n",
              "       [0.5060503 ],\n",
              "       [0.6980224 ],\n",
              "       [0.88337344],\n",
              "       [0.8085527 ],\n",
              "       [0.84563494],\n",
              "       [0.17112951]], dtype=float32)"
            ]
          },
          "metadata": {},
          "execution_count": 99
        }
      ]
    },
    {
      "cell_type": "code",
      "metadata": {
        "colab": {
          "base_uri": "https://localhost:8080/"
        },
        "id": "u5nhC5FkXfsP",
        "outputId": "dc3c3427-b2d5-4add-f0dc-53a38bb575d7"
      },
      "source": [
        "# Convert pred to labels\n",
        "model_7_preds = tf.squeeze(tf.round(model_7_pred_probs))\n",
        "model_7_preds[:10]"
      ],
      "execution_count": null,
      "outputs": [
        {
          "output_type": "execute_result",
          "data": {
            "text/plain": [
              "<tf.Tensor: shape=(10,), dtype=float32, numpy=array([0., 1., 1., 0., 1., 1., 1., 1., 1., 0.], dtype=float32)>"
            ]
          },
          "metadata": {},
          "execution_count": 100
        }
      ]
    },
    {
      "cell_type": "code",
      "metadata": {
        "colab": {
          "base_uri": "https://localhost:8080/"
        },
        "id": "XG50QVTcXlrL",
        "outputId": "3bab91b2-87f2-4af2-fdb5-28b11ffab28b"
      },
      "source": [
        "# Calculate results\n",
        "model_7_results = calculate_results(val_labels, model_7_preds)\n",
        "model_7_results"
      ],
      "execution_count": null,
      "outputs": [
        {
          "output_type": "execute_result",
          "data": {
            "text/plain": [
              "{'accuracy': 77.42782152230971,\n",
              " 'f1': 0.7723566516531356,\n",
              " 'precision': 0.7757380419380466,\n",
              " 'recall': 0.7742782152230971}"
            ]
          },
          "metadata": {},
          "execution_count": 101
        }
      ]
    },
    {
      "cell_type": "code",
      "metadata": {
        "id": "RVBZw1FIXn3y",
        "colab": {
          "base_uri": "https://localhost:8080/"
        },
        "outputId": "7f00d2de-a0d7-4cc3-afc6-b64ccf436668"
      },
      "source": [
        "print(\"Hi\")"
      ],
      "execution_count": null,
      "outputs": [
        {
          "output_type": "stream",
          "text": [
            "Hi\n"
          ],
          "name": "stdout"
        }
      ]
    },
    {
      "cell_type": "markdown",
      "metadata": {
        "id": "arESiULI8kzF"
      },
      "source": [
        "# Compare the performance of each of our models"
      ]
    },
    {
      "cell_type": "code",
      "metadata": {
        "id": "iLbHAr1mA0bj"
      },
      "source": [
        "# Combine model results into dataframe\n",
        "all_model_results = pd.DataFrame({\"baseline\": baseline_results,\n",
        "                                  \"1_Simple Dense\": model_1_results,\n",
        "                                  \"2_LSTM\": model_2_results,\n",
        "                                  \"3_gru\": model_3_results,\n",
        "                                  \"4_bidirectional\": model_4_results,\n",
        "                                  \"5_conv1D\": model_5_results,\n",
        "                                  \"6_tf_hub_use_encoder\": model_6_results,\n",
        "                                  \"7_tf_hub_10_percent\": model_7_results})\n",
        "all_model_results = all_model_results.transpose()"
      ],
      "execution_count": null,
      "outputs": []
    },
    {
      "cell_type": "code",
      "metadata": {
        "id": "D6xVmW-PA_eX"
      },
      "source": [
        "# reduce accuraacy to same scale\n",
        "all_model_results[\"accuracy\"] = all_model_results[\"accuracy\"]/100"
      ],
      "execution_count": null,
      "outputs": []
    },
    {
      "cell_type": "code",
      "metadata": {
        "colab": {
          "base_uri": "https://localhost:8080/",
          "height": 520
        },
        "id": "yC7OgHCSChta",
        "outputId": "dee31b97-9ad1-43d7-c5dd-1d3288827497"
      },
      "source": [
        "# Plot and compare the model results\n",
        "all_model_results.plot(kind=\"bar\", figsize=(10,7)).legend(bbox_to_anchor=(1.0, 1.0))"
      ],
      "execution_count": null,
      "outputs": [
        {
          "output_type": "execute_result",
          "data": {
            "text/plain": [
              "<matplotlib.legend.Legend at 0x7ff4e2bfc1d0>"
            ]
          },
          "metadata": {},
          "execution_count": 109
        },
        {
          "output_type": "display_data",
          "data": {
            "image/png": "[encoded data removed]",
            "text/plain": [
              "<Figure size 720x504 with 1 Axes>"
            ]
          },
          "metadata": {
            "needs_background": "light"
          }
        }
      ]
    },
    {
      "cell_type": "code",
      "metadata": {
        "colab": {
          "base_uri": "https://localhost:8080/",
          "height": 547
        },
        "id": "FBYPFIEMCyoi",
        "outputId": "74cf5197-fd18-4df1-cf7a-09ccd2a184ba"
      },
      "source": [
        "# Sort model results by f1-score\n",
        "all_model_results.sort_values(\"f1\", ascending=False)[\"f1\"].plot(kind=\"bar\", figsize=(10,7))"
      ],
      "execution_count": null,
      "outputs": [
        {
          "output_type": "execute_result",
          "data": {
            "text/plain": [
              "<matplotlib.axes._subplots.AxesSubplot at 0x7ff434075a10>"
            ]
          },
          "metadata": {},
          "execution_count": 110
        },
        {
          "output_type": "display_data",
          "data": {
            "image/png": "[encoded data removed]",
            "text/plain": [
              "<Figure size 720x504 with 1 Axes>"
            ]
          },
          "metadata": {
            "needs_background": "light"
          }
        }
      ]
    },
    {
      "cell_type": "markdown",
      "metadata": {
        "id": "5ufpU7jKD6GH"
      },
      "source": [
        "## Uploading our model training logs to TensorBoard Dev"
      ]
    },
    {
      "cell_type": "code",
      "metadata": {
        "id": "d6YJrtFLEiz2"
      },
      "source": [
        "# View tensorboard logs\n",
        "!tensorboard dev upload --logdir ./model_logs/ \\\n",
        "  --name \"NLP Modelling Experiments\" \\\n",
        "  --description \"Comparing multiple different types of model architectures on the Kaggle tweet classification dataset\" \\\n",
        "  --one_shot"
      ],
      "execution_count": null,
      "outputs": []
    },
    {
      "cell_type": "code",
      "metadata": {
        "colab": {
          "base_uri": "https://localhost:8080/"
        },
        "id": "fuwzmFrZHw_h",
        "outputId": "a58f014d-9eb3-4ff3-d96f-759c744ec0a7"
      },
      "source": [
        "# See previous TensorBoard Dev experiment\n",
        "!tensorboard dev list"
      ],
      "execution_count": null,
      "outputs": [
        {
          "output_type": "stream",
          "text": [
            "2021-08-19 15:55:34.112168: I tensorflow/stream_executor/cuda/cuda_gpu_executor.cc:937] successful NUMA node read from SysFS had negative value (-1), but there must be at least one NUMA node, so returning NUMA node zero\n",
            "2021-08-19 15:55:34.120350: I tensorflow/stream_executor/cuda/cuda_gpu_executor.cc:937] successful NUMA node read from SysFS had negative value (-1), but there must be at least one NUMA node, so returning NUMA node zero\n",
            "2021-08-19 15:55:34.120859: I tensorflow/stream_executor/cuda/cuda_gpu_executor.cc:937] successful NUMA node read from SysFS had negative value (-1), but there must be at least one NUMA node, so returning NUMA node zero\n",
            "https://tensorboard.dev/experiment/zTK8zeoFRSmPkaWEzNV62A/\n",
            "\tName                 NLP Modelling Experiments\n",
            "\tDescription          Comparing multiple different types of model architectures on the Kaggle tweet classification dataset\n",
            "\tId                   zTK8zeoFRSmPkaWEzNV62A\n",
            "\tCreated              2021-08-19 15:43:16 (12 minutes ago)\n",
            "\tUpdated              2021-08-19 15:43:23 (12 minutes ago)\n",
            "\tRuns                 14\n",
            "\tTags                 5\n",
            "\tScalars              210\n",
            "\tTensor bytes         0\n",
            "\tBinary object bytes  3140110\n",
            "https://tensorboard.dev/experiment/rdVIQyQYQsWoEng5LHmikw/\n",
            "\tName                 Transfer learning Experiments with Food101 classes\n",
            "\tDescription          As series of different transfer learning experiments with varying amounts of data and fine tuning.\n",
            "\tId                   rdVIQyQYQsWoEng5LHmikw\n",
            "\tCreated              2021-07-01 06:58:36\n",
            "\tUpdated              2021-07-01 06:58:41\n",
            "\tRuns                 10\n",
            "\tTags                 5\n",
            "\tScalars              162\n",
            "\tTensor bytes         0\n",
            "\tBinary object bytes  4221260\n",
            "Total: 2 experiment(s)\n"
          ],
          "name": "stdout"
        }
      ]
    },
    {
      "cell_type": "code",
      "metadata": {
        "id": "cJxSdqE9H-Wb"
      },
      "source": [
        "# !tensorboard dev delete --experiment_id zTK8zeoFRSmPkaWEzNV62A"
      ],
      "execution_count": null,
      "outputs": []
    },
    {
      "cell_type": "markdown",
      "metadata": {
        "id": "Kt-PGuAYIMYx"
      },
      "source": [
        "## Saving and loading trained model\n",
        "\n",
        "Two ways\n",
        "1. HDF5 format\n",
        "2. `SavedModel` format (this si default when using tensorflow)"
      ]
    },
    {
      "cell_type": "code",
      "metadata": {
        "id": "PaKpyh7dIegi"
      },
      "source": [
        "# Save Model 6 to HDF5 format\n",
        "model_6.save(\"model_6.h5\")"
      ],
      "execution_count": null,
      "outputs": []
    },
    {
      "cell_type": "code",
      "metadata": {
        "id": "cnrCEZuJIvpI"
      },
      "source": [
        "# Load the model\n",
        "loaded_model_6 = tf.keras.models.load_model(\"model_6.h5\",\n",
        "                                            custom_objects={\"KerasLayer\": hub.KerasLayer})"
      ],
      "execution_count": null,
      "outputs": []
    },
    {
      "cell_type": "code",
      "metadata": {
        "colab": {
          "base_uri": "https://localhost:8080/"
        },
        "id": "ox5Ik7ULI9ag",
        "outputId": "833f9003-b455-43ea-ea0e-145c217eba0c"
      },
      "source": [
        "# How does our loaded model perform\n",
        "loaded_model_6.evaluate(val_sentences, val_labels)"
      ],
      "execution_count": null,
      "outputs": [
        {
          "output_type": "stream",
          "text": [
            "24/24 [==============================] - 1s 9ms/step - loss: 0.4391 - accuracy: 0.8058\n"
          ],
          "name": "stdout"
        },
        {
          "output_type": "execute_result",
          "data": {
            "text/plain": [
              "[0.43914034962654114, 0.8057742714881897]"
            ]
          },
          "metadata": {},
          "execution_count": 121
        }
      ]
    },
    {
      "cell_type": "markdown",
      "metadata": {
        "id": "0Dle5qRkLJAD"
      },
      "source": [
        "Now save to `SavedModel` format"
      ]
    },
    {
      "cell_type": "code",
      "metadata": {
        "colab": {
          "base_uri": "https://localhost:8080/"
        },
        "id": "dFSmzetNLQn9",
        "outputId": "57c6d483-1b5d-4784-9538-4eefea7c69cc"
      },
      "source": [
        "model_6.save(\"model_6_SavedModel_format\")"
      ],
      "execution_count": null,
      "outputs": [
        {
          "output_type": "stream",
          "text": [
            "WARNING:absl:Function `_wrapped_model` contains input name(s) USE_input with unsupported characters which will be renamed to use_input in the SavedModel.\n"
          ],
          "name": "stderr"
        },
        {
          "output_type": "stream",
          "text": [
            "INFO:tensorflow:Assets written to: model_6_SavedModel_format/assets\n"
          ],
          "name": "stdout"
        },
        {
          "output_type": "stream",
          "text": [
            "INFO:tensorflow:Assets written to: model_6_SavedModel_format/assets\n"
          ],
          "name": "stderr"
        }
      ]
    },
    {
      "cell_type": "code",
      "metadata": {
        "id": "BEA6JeYyLVYh"
      },
      "source": [
        "# Load a model in SavedModel format\n",
        "loaded_model_6_SavedModel_format = tf.keras.models.load_model(\"model_6_SavedModel_format\")"
      ],
      "execution_count": null,
      "outputs": []
    },
    {
      "cell_type": "code",
      "metadata": {
        "colab": {
          "base_uri": "https://localhost:8080/"
        },
        "id": "rzdqbeBHLph7",
        "outputId": "3b7404c2-20e3-4d02-d168-ac7e12958c88"
      },
      "source": [
        "loaded_model_6_SavedModel_format.evaluate(val_sentences, val_labels)"
      ],
      "execution_count": null,
      "outputs": [
        {
          "output_type": "stream",
          "text": [
            "24/24 [==============================] - 1s 9ms/step - loss: 0.4391 - accuracy: 0.8058\n"
          ],
          "name": "stdout"
        },
        {
          "output_type": "execute_result",
          "data": {
            "text/plain": [
              "[0.43914034962654114, 0.8057742714881897]"
            ]
          },
          "metadata": {},
          "execution_count": 124
        }
      ]
    },
    {
      "cell_type": "markdown",
      "metadata": {
        "id": "fwH0vY4PLwiK"
      },
      "source": [
        "## Finding the most wrong examples\n",
        "\n"
      ]
    },
    {
      "cell_type": "code",
      "metadata": {
        "colab": {
          "base_uri": "https://localhost:8080/"
        },
        "id": "rhKgg8V3MeRF",
        "outputId": "fdaa631e-c195-4e26-eba5-985bac716acf"
      },
      "source": [
        "# Download pretrained data\n",
        "!wget https://storage.googleapis.com/ztm_tf_course/08_model_6_USE_feature_extractor.zip\n",
        "unzip_data(\"08_model_6_USE_feature_extractor.zip\")"
      ],
      "execution_count": null,
      "outputs": [
        {
          "output_type": "stream",
          "text": [
            "--2021-08-19 16:15:48--  https://storage.googleapis.com/ztm_tf_course/08_model_6_USE_feature_extractor.zip\n",
            "Resolving storage.googleapis.com (storage.googleapis.com)... 74.125.197.128, 74.125.135.128, 74.125.142.128, ...\n",
            "Connecting to storage.googleapis.com (storage.googleapis.com)|74.125.197.128|:443... connected.\n",
            "HTTP request sent, awaiting response... 200 OK\n",
            "Length: 960779165 (916M) [application/zip]\n",
            "Saving to: ‘08_model_6_USE_feature_extractor.zip’\n",
            "\n",
            "08_model_6_USE_feat 100%[===================>] 916.27M   244MB/s    in 3.8s    \n",
            "\n",
            "2021-08-19 16:15:52 (243 MB/s) - ‘08_model_6_USE_feature_extractor.zip’ saved [960779165/960779165]\n",
            "\n"
          ],
          "name": "stdout"
        }
      ]
    },
    {
      "cell_type": "code",
      "metadata": {
        "colab": {
          "base_uri": "https://localhost:8080/"
        },
        "id": "XNGOJ7znMuCq",
        "outputId": "ae366518-0ea4-436f-da5f-057269e2986f"
      },
      "source": [
        "model_6_pretrained = tf.keras.models.load_model(\"08_model_6_USE_feature_extractor\")"
      ],
      "execution_count": null,
      "outputs": [
        {
          "output_type": "stream",
          "text": [
            "WARNING:tensorflow:SavedModel saved prior to TF 2.5 detected when loading Keras model. Please ensure that you are saving the model with model.save() or tf.keras.models.save_model(), *NOT* tf.saved_model.save(). To confirm, there should be a file named \"keras_metadata.pb\" in the SavedModel directory.\n"
          ],
          "name": "stdout"
        },
        {
          "output_type": "stream",
          "text": [
            "WARNING:tensorflow:SavedModel saved prior to TF 2.5 detected when loading Keras model. Please ensure that you are saving the model with model.save() or tf.keras.models.save_model(), *NOT* tf.saved_model.save(). To confirm, there should be a file named \"keras_metadata.pb\" in the SavedModel directory.\n"
          ],
          "name": "stderr"
        }
      ]
    },
    {
      "cell_type": "code",
      "metadata": {
        "colab": {
          "base_uri": "https://localhost:8080/"
        },
        "id": "ax_TqPl4M7Fj",
        "outputId": "9ec72e1d-859b-4408-da8b-125dc81667ed"
      },
      "source": [
        "# Make prediction with loaded model\n",
        "model_6_pretrained_pred_probs = model_6_pretrained.predict(val_sentences)\n",
        "model_6_pretrained_preds = tf.squeeze(tf.round(model_6_pretrained_pred_probs))\n",
        "model_6_pretrained_preds[:10] # in label format"
      ],
      "execution_count": null,
      "outputs": [
        {
          "output_type": "execute_result",
          "data": {
            "text/plain": [
              "<tf.Tensor: shape=(10,), dtype=float32, numpy=array([0., 1., 1., 0., 1., 1., 1., 1., 1., 0.], dtype=float32)>"
            ]
          },
          "metadata": {},
          "execution_count": 128
        }
      ]
    },
    {
      "cell_type": "code",
      "metadata": {
        "id": "xSSVHp2OMLAo"
      },
      "source": [
        "# Create a dataframe with validation sentences, validation labels and best performing model predictions\n",
        "val_df = pd.DataFrame({\"text\": val_sentences,\n",
        "                       \"target\": val_labels,\n",
        "                       \"pred\": model_6_pretrained_preds,\n",
        "                       \"pred_prob\": tf.squeeze(model_6_pretrained_pred_probs)})"
      ],
      "execution_count": null,
      "outputs": []
    },
    {
      "cell_type": "code",
      "metadata": {
        "colab": {
          "base_uri": "https://localhost:8080/",
          "height": 417
        },
        "id": "NeQlm-FrNkPu",
        "outputId": "c6ab1cb0-5317-481b-81b6-00d8f53a2b6e"
      },
      "source": [
        "val_df"
      ],
      "execution_count": null,
      "outputs": [
        {
          "output_type": "execute_result",
          "data": {
            "text/html": [
              "<div>\n",
              "<style scoped>\n",
              "    .dataframe tbody tr th:only-of-type {\n",
              "        vertical-align: middle;\n",
              "    }\n",
              "\n",
              "    .dataframe tbody tr th {\n",
              "        vertical-align: top;\n",
              "    }\n",
              "\n",
              "    .dataframe thead th {\n",
              "        text-align: right;\n",
              "    }\n",
              "</style>\n",
              "<table border=\"1\" class=\"dataframe\">\n",
              "  <thead>\n",
              "    <tr style=\"text-align: right;\">\n",
              "      <th></th>\n",
              "      <th>text</th>\n",
              "      <th>target</th>\n",
              "      <th>pred</th>\n",
              "      <th>pred_prob</th>\n",
              "    </tr>\n",
              "  </thead>\n",
              "  <tbody>\n",
              "    <tr>\n",
              "      <th>0</th>\n",
              "      <td>DFR EP016 Monthly Meltdown - On Dnbheaven 2015...</td>\n",
              "      <td>0</td>\n",
              "      <td>0.0</td>\n",
              "      <td>0.159757</td>\n",
              "    </tr>\n",
              "    <tr>\n",
              "      <th>1</th>\n",
              "      <td>FedEx no longer to transport bioterror germs i...</td>\n",
              "      <td>0</td>\n",
              "      <td>1.0</td>\n",
              "      <td>0.747162</td>\n",
              "    </tr>\n",
              "    <tr>\n",
              "      <th>2</th>\n",
              "      <td>Gunmen kill four in El Salvador bus attack: Su...</td>\n",
              "      <td>1</td>\n",
              "      <td>1.0</td>\n",
              "      <td>0.988749</td>\n",
              "    </tr>\n",
              "    <tr>\n",
              "      <th>3</th>\n",
              "      <td>@camilacabello97 Internally and externally scr...</td>\n",
              "      <td>1</td>\n",
              "      <td>0.0</td>\n",
              "      <td>0.196229</td>\n",
              "    </tr>\n",
              "    <tr>\n",
              "      <th>4</th>\n",
              "      <td>Radiation emergency #preparedness starts with ...</td>\n",
              "      <td>1</td>\n",
              "      <td>1.0</td>\n",
              "      <td>0.707808</td>\n",
              "    </tr>\n",
              "    <tr>\n",
              "      <th>...</th>\n",
              "      <td>...</td>\n",
              "      <td>...</td>\n",
              "      <td>...</td>\n",
              "      <td>...</td>\n",
              "    </tr>\n",
              "    <tr>\n",
              "      <th>757</th>\n",
              "      <td>That's the ultimate road to destruction</td>\n",
              "      <td>0</td>\n",
              "      <td>0.0</td>\n",
              "      <td>0.137074</td>\n",
              "    </tr>\n",
              "    <tr>\n",
              "      <th>758</th>\n",
              "      <td>@SetZorah dad why dont you claim me that mean ...</td>\n",
              "      <td>0</td>\n",
              "      <td>0.0</td>\n",
              "      <td>0.095865</td>\n",
              "    </tr>\n",
              "    <tr>\n",
              "      <th>759</th>\n",
              "      <td>FedEx will no longer transport bioterror patho...</td>\n",
              "      <td>0</td>\n",
              "      <td>1.0</td>\n",
              "      <td>0.876982</td>\n",
              "    </tr>\n",
              "    <tr>\n",
              "      <th>760</th>\n",
              "      <td>Crack in the path where I wiped out this morni...</td>\n",
              "      <td>0</td>\n",
              "      <td>1.0</td>\n",
              "      <td>0.612631</td>\n",
              "    </tr>\n",
              "    <tr>\n",
              "      <th>761</th>\n",
              "      <td>I liked a @YouTube video from @dannyonpc http:...</td>\n",
              "      <td>0</td>\n",
              "      <td>0.0</td>\n",
              "      <td>0.117992</td>\n",
              "    </tr>\n",
              "  </tbody>\n",
              "</table>\n",
              "<p>762 rows × 4 columns</p>\n",
              "</div>"
            ],
            "text/plain": [
              "                                                  text  target  pred  pred_prob\n",
              "0    DFR EP016 Monthly Meltdown - On Dnbheaven 2015...       0   0.0   0.159757\n",
              "1    FedEx no longer to transport bioterror germs i...       0   1.0   0.747162\n",
              "2    Gunmen kill four in El Salvador bus attack: Su...       1   1.0   0.988749\n",
              "3    @camilacabello97 Internally and externally scr...       1   0.0   0.196229\n",
              "4    Radiation emergency #preparedness starts with ...       1   1.0   0.707808\n",
              "..                                                 ...     ...   ...        ...\n",
              "757            That's the ultimate road to destruction       0   0.0   0.137074\n",
              "758  @SetZorah dad why dont you claim me that mean ...       0   0.0   0.095865\n",
              "759  FedEx will no longer transport bioterror patho...       0   1.0   0.876982\n",
              "760  Crack in the path where I wiped out this morni...       0   1.0   0.612631\n",
              "761  I liked a @YouTube video from @dannyonpc http:...       0   0.0   0.117992\n",
              "\n",
              "[762 rows x 4 columns]"
            ]
          },
          "metadata": {},
          "execution_count": 131
        }
      ]
    },
    {
      "cell_type": "code",
      "metadata": {
        "colab": {
          "base_uri": "https://localhost:8080/",
          "height": 203
        },
        "id": "dwY1M_LtNr7p",
        "outputId": "cb653e97-dfc8-4337-950d-f14b94e50bae"
      },
      "source": [
        "# Fine thw rong prediction and sort by prediction probabilities\n",
        "most_wrong = val_df[val_df[\"target\"] != val_df[\"pred\"]].sort_values(\"pred_prob\", ascending=False)\n",
        "most_wrong.head() # False postive"
      ],
      "execution_count": null,
      "outputs": [
        {
          "output_type": "execute_result",
          "data": {
            "text/html": [
              "<div>\n",
              "<style scoped>\n",
              "    .dataframe tbody tr th:only-of-type {\n",
              "        vertical-align: middle;\n",
              "    }\n",
              "\n",
              "    .dataframe tbody tr th {\n",
              "        vertical-align: top;\n",
              "    }\n",
              "\n",
              "    .dataframe thead th {\n",
              "        text-align: right;\n",
              "    }\n",
              "</style>\n",
              "<table border=\"1\" class=\"dataframe\">\n",
              "  <thead>\n",
              "    <tr style=\"text-align: right;\">\n",
              "      <th></th>\n",
              "      <th>text</th>\n",
              "      <th>target</th>\n",
              "      <th>pred</th>\n",
              "      <th>pred_prob</th>\n",
              "    </tr>\n",
              "  </thead>\n",
              "  <tbody>\n",
              "    <tr>\n",
              "      <th>31</th>\n",
              "      <td>? High Skies - Burning Buildings ? http://t.co...</td>\n",
              "      <td>0</td>\n",
              "      <td>1.0</td>\n",
              "      <td>0.910196</td>\n",
              "    </tr>\n",
              "    <tr>\n",
              "      <th>759</th>\n",
              "      <td>FedEx will no longer transport bioterror patho...</td>\n",
              "      <td>0</td>\n",
              "      <td>1.0</td>\n",
              "      <td>0.876982</td>\n",
              "    </tr>\n",
              "    <tr>\n",
              "      <th>628</th>\n",
              "      <td>@noah_anyname That's where the concentration c...</td>\n",
              "      <td>0</td>\n",
              "      <td>1.0</td>\n",
              "      <td>0.852300</td>\n",
              "    </tr>\n",
              "    <tr>\n",
              "      <th>209</th>\n",
              "      <td>Ashes 2015: AustraliaÛªs collapse at Trent Br...</td>\n",
              "      <td>0</td>\n",
              "      <td>1.0</td>\n",
              "      <td>0.835454</td>\n",
              "    </tr>\n",
              "    <tr>\n",
              "      <th>251</th>\n",
              "      <td>@AshGhebranious civil rights continued in the ...</td>\n",
              "      <td>0</td>\n",
              "      <td>1.0</td>\n",
              "      <td>0.827213</td>\n",
              "    </tr>\n",
              "  </tbody>\n",
              "</table>\n",
              "</div>"
            ],
            "text/plain": [
              "                                                  text  target  pred  pred_prob\n",
              "31   ? High Skies - Burning Buildings ? http://t.co...       0   1.0   0.910196\n",
              "759  FedEx will no longer transport bioterror patho...       0   1.0   0.876982\n",
              "628  @noah_anyname That's where the concentration c...       0   1.0   0.852300\n",
              "209  Ashes 2015: AustraliaÛªs collapse at Trent Br...       0   1.0   0.835454\n",
              "251  @AshGhebranious civil rights continued in the ...       0   1.0   0.827213"
            ]
          },
          "metadata": {},
          "execution_count": 133
        }
      ]
    },
    {
      "cell_type": "markdown",
      "metadata": {
        "id": "ZfbUn70YOegL"
      },
      "source": [
        "0: Not disaster\n",
        "1: disaster"
      ]
    },
    {
      "cell_type": "code",
      "metadata": {
        "colab": {
          "base_uri": "https://localhost:8080/",
          "height": 203
        },
        "id": "mQyfoL-tOpSC",
        "outputId": "e852ca3d-75c0-4caf-b2a6-2b4cccdc9611"
      },
      "source": [
        "most_wrong.tail() # Flase negatives"
      ],
      "execution_count": null,
      "outputs": [
        {
          "output_type": "execute_result",
          "data": {
            "text/html": [
              "<div>\n",
              "<style scoped>\n",
              "    .dataframe tbody tr th:only-of-type {\n",
              "        vertical-align: middle;\n",
              "    }\n",
              "\n",
              "    .dataframe tbody tr th {\n",
              "        vertical-align: top;\n",
              "    }\n",
              "\n",
              "    .dataframe thead th {\n",
              "        text-align: right;\n",
              "    }\n",
              "</style>\n",
              "<table border=\"1\" class=\"dataframe\">\n",
              "  <thead>\n",
              "    <tr style=\"text-align: right;\">\n",
              "      <th></th>\n",
              "      <th>text</th>\n",
              "      <th>target</th>\n",
              "      <th>pred</th>\n",
              "      <th>pred_prob</th>\n",
              "    </tr>\n",
              "  </thead>\n",
              "  <tbody>\n",
              "    <tr>\n",
              "      <th>411</th>\n",
              "      <td>@SoonerMagic_ I mean I'm a fan but I don't nee...</td>\n",
              "      <td>1</td>\n",
              "      <td>0.0</td>\n",
              "      <td>0.043918</td>\n",
              "    </tr>\n",
              "    <tr>\n",
              "      <th>233</th>\n",
              "      <td>I get to smoke my shit in peace</td>\n",
              "      <td>1</td>\n",
              "      <td>0.0</td>\n",
              "      <td>0.042087</td>\n",
              "    </tr>\n",
              "    <tr>\n",
              "      <th>38</th>\n",
              "      <td>Why are you deluged with low self-image? Take ...</td>\n",
              "      <td>1</td>\n",
              "      <td>0.0</td>\n",
              "      <td>0.038998</td>\n",
              "    </tr>\n",
              "    <tr>\n",
              "      <th>244</th>\n",
              "      <td>Reddit Will Now QuarantineÛ_ http://t.co/pkUA...</td>\n",
              "      <td>1</td>\n",
              "      <td>0.0</td>\n",
              "      <td>0.038949</td>\n",
              "    </tr>\n",
              "    <tr>\n",
              "      <th>23</th>\n",
              "      <td>Ron &amp;amp; Fez - Dave's High School Crush https...</td>\n",
              "      <td>1</td>\n",
              "      <td>0.0</td>\n",
              "      <td>0.037186</td>\n",
              "    </tr>\n",
              "  </tbody>\n",
              "</table>\n",
              "</div>"
            ],
            "text/plain": [
              "                                                  text  target  pred  pred_prob\n",
              "411  @SoonerMagic_ I mean I'm a fan but I don't nee...       1   0.0   0.043918\n",
              "233                    I get to smoke my shit in peace       1   0.0   0.042087\n",
              "38   Why are you deluged with low self-image? Take ...       1   0.0   0.038998\n",
              "244  Reddit Will Now QuarantineÛ_ http://t.co/pkUA...       1   0.0   0.038949\n",
              "23   Ron &amp; Fez - Dave's High School Crush https...       1   0.0   0.037186"
            ]
          },
          "metadata": {},
          "execution_count": 135
        }
      ]
    },
    {
      "cell_type": "code",
      "metadata": {
        "colab": {
          "base_uri": "https://localhost:8080/"
        },
        "id": "8RQlQKygYd-Z",
        "outputId": "08a042cb-0348-4a57-9e91-0cf2be467ec1"
      },
      "source": [
        "# Check the false positives (model predicted 1 when should have been 0)\n",
        "for row in most_wrong[:10].itertuples():\n",
        "  _, text, target, pred, pred_prob = row\n",
        "  print(f\"Target: {target}, Pred: {pred}, Prob: {pred_prob}\")\n",
        "  print(f\"text:\\n{text}\\n\")\n",
        "  print(\"-----\\n\")"
      ],
      "execution_count": null,
      "outputs": [
        {
          "output_type": "stream",
          "text": [
            "Target: 0, Pred: 1.0, Prob: 0.9101957678794861\n",
            "text:\n",
            "? High Skies - Burning Buildings ? http://t.co/uVq41i3Kx2 #nowplaying\n",
            "\n",
            "-----\n",
            "\n",
            "Target: 0, Pred: 1.0, Prob: 0.8769821524620056\n",
            "text:\n",
            "FedEx will no longer transport bioterror pathogens in wake of anthrax lab mishaps http://t.co/lHpgxc4b8J\n",
            "\n",
            "-----\n",
            "\n",
            "Target: 0, Pred: 1.0, Prob: 0.8523000478744507\n",
            "text:\n",
            "@noah_anyname That's where the concentration camps and mass murder come in. \n",
            " \n",
            "EVERY. FUCKING. TIME.\n",
            "\n",
            "-----\n",
            "\n",
            "Target: 0, Pred: 1.0, Prob: 0.8354544043540955\n",
            "text:\n",
            "Ashes 2015: AustraliaÛªs collapse at Trent Bridge among worst in history: England bundled out Australia for 60 ... http://t.co/t5TrhjUAU0\n",
            "\n",
            "-----\n",
            "\n",
            "Target: 0, Pred: 1.0, Prob: 0.8272132277488708\n",
            "text:\n",
            "@AshGhebranious civil rights continued in the 60s. And what about trans-generational trauma? if anything we should listen to the Americans.\n",
            "\n",
            "-----\n",
            "\n",
            "Target: 0, Pred: 1.0, Prob: 0.814815878868103\n",
            "text:\n",
            "@SonofLiberty357 all illuminated by the brightly burning buildings all around the town!\n",
            "\n",
            "-----\n",
            "\n",
            "Target: 0, Pred: 1.0, Prob: 0.8108396530151367\n",
            "text:\n",
            "[55436] 1950 LIONEL TRAINS SMOKE LOCOMOTIVES WITH MAGNE-TRACTION INSTRUCTIONS http://t.co/xEZBs3sq0y http://t.co/C2x0QoKGlY\n",
            "\n",
            "-----\n",
            "\n",
            "Target: 0, Pred: 1.0, Prob: 0.8031217455863953\n",
            "text:\n",
            "@madonnamking RSPCA site multiple 7 story high rise buildings next to low density character residential in an area that floods\n",
            "\n",
            "-----\n",
            "\n",
            "Target: 0, Pred: 1.0, Prob: 0.7669009566307068\n",
            "text:\n",
            "@freefromwolves GodsLove &amp; #thankU brother Danny for RT of NEW VIDEO http://t.co/cybKsXHF7d The Coming Apocalyptic US Earthquake &amp; Tsunami\n",
            "\n",
            "-----\n",
            "\n",
            "Target: 0, Pred: 1.0, Prob: 0.766625165939331\n",
            "text:\n",
            "Air Group is here to the rescue! We have 24/7 Emergency Service! Learn more about it here - http://t.co/9lyx7zMtHE http://t.co/5PbC96rTMJ\n",
            "\n",
            "-----\n",
            "\n"
          ],
          "name": "stdout"
        }
      ]
    },
    {
      "cell_type": "code",
      "metadata": {
        "colab": {
          "base_uri": "https://localhost:8080/"
        },
        "id": "XjHFiK48b641",
        "outputId": "f4409d57-c560-4974-d112-ab35164246eb"
      },
      "source": [
        "# Check the false negatives (model predicted 1 when should have been 0)\n",
        "for row in most_wrong[-10:].itertuples():\n",
        "  _, text, target, pred, pred_prob = row\n",
        "  print(f\"Target: {target}, Pred: {pred}, Prob: {pred_prob}\")\n",
        "  print(f\"text:\\n{text}\\n\")\n",
        "  print(\"-----\\n\")"
      ],
      "execution_count": null,
      "outputs": [
        {
          "output_type": "stream",
          "text": [
            "Target: 1, Pred: 0.0, Prob: 0.06730346381664276\n",
            "text:\n",
            "@DavidVonderhaar At least you were sincere ??\n",
            "\n",
            "-----\n",
            "\n",
            "Target: 1, Pred: 0.0, Prob: 0.05507579818367958\n",
            "text:\n",
            "@willienelson We need help! Horses will die!Please RT &amp; sign petition!Take a stand &amp; be a voice for them! #gilbert23 https://t.co/e8dl1lNCVu\n",
            "\n",
            "-----\n",
            "\n",
            "Target: 1, Pred: 0.0, Prob: 0.05460336431860924\n",
            "text:\n",
            "Lucas Duda is Ghost Rider. Not the Nic Cage version but an actual 'engulfed in flames' badass. #Mets\n",
            "\n",
            "-----\n",
            "\n",
            "Target: 1, Pred: 0.0, Prob: 0.05459698289632797\n",
            "text:\n",
            "going to redo my nails and watch behind the scenes of desolation of smaug ayyy\n",
            "\n",
            "-----\n",
            "\n",
            "Target: 1, Pred: 0.0, Prob: 0.049637261778116226\n",
            "text:\n",
            "You can never escape me. Bullets don't harm me. Nothing harms me. But I know pain. I know pain. Sometimes I share it. With someone like you.\n",
            "\n",
            "-----\n",
            "\n",
            "Target: 1, Pred: 0.0, Prob: 0.043918490409851074\n",
            "text:\n",
            "@SoonerMagic_ I mean I'm a fan but I don't need a girl sounding off like a damn siren\n",
            "\n",
            "-----\n",
            "\n",
            "Target: 1, Pred: 0.0, Prob: 0.04208686202764511\n",
            "text:\n",
            "I get to smoke my shit in peace\n",
            "\n",
            "-----\n",
            "\n",
            "Target: 1, Pred: 0.0, Prob: 0.03899792954325676\n",
            "text:\n",
            "Why are you deluged with low self-image? Take the quiz: http://t.co/XsPqdOrIqj http://t.co/CQYvFR4UCy\n",
            "\n",
            "-----\n",
            "\n",
            "Target: 1, Pred: 0.0, Prob: 0.038949452340602875\n",
            "text:\n",
            "Reddit Will Now QuarantineÛ_ http://t.co/pkUAMXw6pm #onlinecommunities #reddit #amageddon #freespeech #Business http://t.co/PAWvNJ4sAP\n",
            "\n",
            "-----\n",
            "\n",
            "Target: 1, Pred: 0.0, Prob: 0.03718579187989235\n",
            "text:\n",
            "Ron &amp; Fez - Dave's High School Crush https://t.co/aN3W16c8F6 via @YouTube\n",
            "\n",
            "-----\n",
            "\n"
          ],
          "name": "stdout"
        }
      ]
    },
    {
      "cell_type": "markdown",
      "metadata": {
        "id": "ev4bNL0xcKhD"
      },
      "source": [
        "## Making predictions on the test dataset"
      ]
    },
    {
      "cell_type": "code",
      "metadata": {
        "colab": {
          "base_uri": "https://localhost:8080/"
        },
        "id": "-1uyLGZiclww",
        "outputId": "f0cb0e9c-b9eb-47c2-f2bf-2c7a09bae1e4"
      },
      "source": [
        "# Making prediction on test and visualising them\n",
        "test_sentences = test_df[\"text\"].to_list()\n",
        "test_samples = random.sample(test_sentences, 10)\n",
        "for test_sample in test_samples:\n",
        "  pred_prob = tf.squeeze(model_6_pretrained.predict([test_sample])) # our model expects list\n",
        "  pred = tf.round(pred_prob)\n",
        "  print(f\"Pred: {int(pred)}, Prob: {pred_prob}\")\n",
        "  print(f\"test:\\n{test_sample}\\n\")\n",
        "  print(\"-----\\n\")"
      ],
      "execution_count": null,
      "outputs": [
        {
          "output_type": "stream",
          "text": [
            "Pred: 0, Prob: 0.10977931320667267\n",
            "test:\n",
            "@frailnerves I SCREAMED\n",
            "\n",
            "-----\n",
            "\n",
            "Pred: 0, Prob: 0.4540296494960785\n",
            "test:\n",
            "Ignition Knock (Detonation) Sensor-Senso BECK/ARNLEY 158-0992 http://t.co/tk9HnxZNSl http://t.co/UhBUwbeQ0O\n",
            "\n",
            "-----\n",
            "\n",
            "Pred: 1, Prob: 0.9748289585113525\n",
            "test:\n",
            "Top story: MH370: Reunion debris is from missing plane - BBC News http://t.co/jasWg2MwIi see more http://t.co/qgk64YPN13\n",
            "\n",
            "-----\n",
            "\n",
            "Pred: 1, Prob: 0.8150160312652588\n",
            "test:\n",
            "Aug 3 1915ÛÓKAISERJAEGERS WIPED OUT.; Francis Joseph's Crack Regiment Annihilated on Carso Plateau.\n",
            "http://t.co/D1sPSwl66H\n",
            "\n",
            "-----\n",
            "\n",
            "Pred: 0, Prob: 0.06859749555587769\n",
            "test:\n",
            "WHAT A DISASTER FOR SECRET  #TI5\n",
            "\n",
            "-----\n",
            "\n",
            "Pred: 0, Prob: 0.06922597438097\n",
            "test:\n",
            "[VID]150806 Luhan From Luhan Studio Channel on YOUKU Update \n",
            "\n",
            "http://t.co/W7yeZkQlCJ http://t.co/C0QWZ0IshR\n",
            "\n",
            "-----\n",
            "\n",
            "Pred: 1, Prob: 0.9510711431503296\n",
            "test:\n",
            "RT @LivingSafely: NWS posts Severe #Thunderstorm Warnings for parts of #AR #NC #OK. Seek strong shelter if at risk: http://t.co/kImr0l24Fb\n",
            "\n",
            "-----\n",
            "\n",
            "Pred: 0, Prob: 0.06198333203792572\n",
            "test:\n",
            "Ford : Other Military VERY NICE M151A1 MUTT with matching M416 Trailer - Full read by eBay http://t.co/RJ83YE5c1S http://t.co/2rWRU0jP0U\n",
            "\n",
            "-----\n",
            "\n",
            "Pred: 0, Prob: 0.09456685185432434\n",
            "test:\n",
            "Took the time to finally install #win10 on one of my systems. Let's see if it will survive a weekend of #lanparty.\n",
            "\n",
            "-----\n",
            "\n",
            "Pred: 0, Prob: 0.10681042820215225\n",
            "test:\n",
            "Idk if ithats thunder or people rolling in their trashcans ??????\n",
            "\n",
            "-----\n",
            "\n"
          ],
          "name": "stdout"
        }
      ]
    },
    {
      "cell_type": "markdown",
      "metadata": {
        "id": "tGlqZ1zodOwp"
      },
      "source": [
        "## The speed/score tradeoff"
      ]
    },
    {
      "cell_type": "code",
      "metadata": {
        "id": "sRsDMDwgeAQL"
      },
      "source": [
        "# Let's make function to measure time of prediction\n",
        "import time\n",
        "def pred_timer(model, samples):\n",
        "  \"\"\"\n",
        "  Time how long a model taeks to make prediction on samples\n",
        "  \"\"\"\n",
        "  start_time = time.perf_counter() # get start time\n",
        "  model.predict(samples) # make predictions\n",
        "  end_time = time.perf_counter() # get end time\n",
        "  total_time = end_time - start_time\n",
        "  time_per_pred = total_time/len(samples)\n",
        "  return total_time, time_per_pred"
      ],
      "execution_count": null,
      "outputs": []
    },
    {
      "cell_type": "code",
      "metadata": {
        "colab": {
          "base_uri": "https://localhost:8080/"
        },
        "id": "DotFUgAcexdj",
        "outputId": "0f6b7e44-03cb-440d-b993-3ff7a0a1592e"
      },
      "source": [
        "# Calculate TF Hub Sentence encoder time per pred\n",
        "model_6_total_pred_time, model_6_time_per_pred = pred_timer(model=model_6_pretrained,\n",
        "                                     samples = val_sentences)\n",
        "\n",
        "model_6_total_pred_time, model_6_time_per_pred"
      ],
      "execution_count": null,
      "outputs": [
        {
          "output_type": "execute_result",
          "data": {
            "text/plain": [
              "(0.2281487370000832, 0.00029940779133869186)"
            ]
          },
          "metadata": {},
          "execution_count": 145
        }
      ]
    },
    {
      "cell_type": "code",
      "metadata": {
        "colab": {
          "base_uri": "https://localhost:8080/"
        },
        "id": "ZySx1bpZfFRN",
        "outputId": "4fcee1b7-ca9c-4050-99fc-c6eb870a53b0"
      },
      "source": [
        "# Calculate TF Hub Sentence encoder time per pred\n",
        "baseline_total_pred_time, baseline_time_per_pred = pred_timer(model=model_0,\n",
        "                                     samples = val_sentences)\n",
        "\n",
        "baseline_total_pred_time, baseline_time_per_pred"
      ],
      "execution_count": null,
      "outputs": [
        {
          "output_type": "execute_result",
          "data": {
            "text/plain": [
              "(0.018323705000511836, 2.404685695605228e-05)"
            ]
          },
          "metadata": {},
          "execution_count": 146
        }
      ]
    },
    {
      "cell_type": "code",
      "metadata": {
        "colab": {
          "base_uri": "https://localhost:8080/"
        },
        "id": "GOTKF0hKfOVF",
        "outputId": "fd8cea7b-a3dc-4b7c-cd65-07d03135aa79"
      },
      "source": [
        "model_6_pretrained_results = calculate_results(val_labels,\n",
        "                                               model_6_pretrained_preds)\n",
        "\n",
        "model_6_pretrained_results"
      ],
      "execution_count": null,
      "outputs": [
        {
          "output_type": "execute_result",
          "data": {
            "text/plain": [
              "{'accuracy': 81.62729658792651,\n",
              " 'f1': 0.8148082644367335,\n",
              " 'precision': 0.818446310697231,\n",
              " 'recall': 0.8162729658792651}"
            ]
          },
          "metadata": {},
          "execution_count": 147
        }
      ]
    },
    {
      "cell_type": "code",
      "metadata": {
        "colab": {
          "base_uri": "https://localhost:8080/",
          "height": 475
        },
        "id": "wj16ZtAVfg5u",
        "outputId": "e52e505b-03a2-4fae-f774-a68eed0c495c"
      },
      "source": [
        "import matplotlib.pyplot as plt\n",
        "\n",
        "plt.figure(figsize=(10, 7))\n",
        "plt.scatter(baseline_time_per_pred, baseline_results[\"f1\"], label=\"baseline\")\n",
        "plt.scatter(model_6_time_per_pred, model_6_results[\"f1\"], label=\"tf_hub_USE\")\n",
        "plt.legend()\n",
        "plt.title(\"F1-score versus time per prediction\")\n",
        "plt.xlabel(\"time per prediction\")\n",
        "plt.ylabel(\"F1-Score\")"
      ],
      "execution_count": null,
      "outputs": [
        {
          "output_type": "execute_result",
          "data": {
            "text/plain": [
              "Text(0, 0.5, 'F1-Score')"
            ]
          },
          "metadata": {},
          "execution_count": 148
        },
        {
          "output_type": "display_data",
          "data": {
            "image/png": "[encoded data removed]",
            "text/plain": [
              "<Figure size 720x504 with 1 Axes>"
            ]
          },
          "metadata": {
            "needs_background": "light"
          }
        }
      ]
    },
    {
      "cell_type": "code",
      "metadata": {
        "id": "99dYgBtVf_C-"
      },
      "source": [],
      "execution_count": null,
      "outputs": []
    }
  ]
}